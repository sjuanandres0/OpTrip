{
 "cells": [
  {
   "cell_type": "code",
   "execution_count": 37,
   "metadata": {},
   "outputs": [],
   "source": [
    "from ignore.keys import key\n",
    "apiKey = key"
   ]
  },
  {
   "cell_type": "code",
   "execution_count": 46,
   "metadata": {},
   "outputs": [
    {
     "name": "stdout",
     "output_type": "stream",
     "text": [
      "startDate:\t 2022-10-28T10:53:52Z\n",
      "endDate:\t 2022-11-04T10:53:52Z\n"
     ]
    }
   ],
   "source": [
    "import datetime\n",
    "\n",
    "def formatDate(date):\n",
    "    return date.strftime(\"%Y-%m-%dT%H:%M:%SZ\")\n",
    "    \n",
    "def getDateRange(substractDays=2, addDays=-5):\n",
    "    now = datetime.datetime.now()\n",
    "    startDate = now - datetime.timedelta(days = 2)\n",
    "    endDate = now - datetime.timedelta(days = -5)\n",
    "    return formatDate(startDate), formatDate(endDate)\n",
    "\n",
    "startDate, endDate = getDateRange()\n",
    "# print(now)\n",
    "print('startDate:\\t', startDate)\n",
    "print('endDate:\\t', endDate)\n",
    "\n",
    "# output_date = datetime.datetime.now().strftime(\"%Y-%m-%dT%H:%M:%SZ\")\n",
    "# print(output_date)\n"
   ]
  },
  {
   "cell_type": "code",
   "execution_count": 47,
   "metadata": {},
   "outputs": [
    {
     "name": "stdout",
     "output_type": "stream",
     "text": [
      "https://api.airfranceklm.com/opendata/flightstatus/?carrierCode=AF&flightNumber=349&startRange=2022-10-28T10:53:52Z&endRange=2022-11-04T10:53:52Z\n",
      "{\"operationalFlights\":[{\"flightNumber\":349,\"flightScheduleDate\":\"2022-10-29\",\"id\":\"20221029+AF+0349\",\"haul\":\"LONG\",\"route\":[\"YUL\",\"CDG\"],\"airline\":{\"code\":\"AF\",\"name\":\"AIR FRANCE\"},\"codeShareRelations\":[{\"marketingFlightNumber\":2587,\"code\":\"F\",\"type\":\"PASSENGER\",\"airline\":{\"code\":\"AZ\",\"name\":\"ITA AIRWAYS\"}},{\"marketingFlightNumber\":8613,\"code\":\"F\",\"type\":\"PASSENGER\",\"airline\":{\"code\":\"DL\",\"name\":\"DELTA AIR LINES INC.\"}},{\"marketingFlightNumber\":2441,\"code\":\"F\",\"type\":\"PASSENGER\",\"airline\":{\"code\":\"KL\",\"name\":\"KLM ROYAL DUTCH AIRLINES\"}},{\"marketingFlightNumber\":4349,\"code\":\"F\",\"type\":\"PASSENGER\",\"airline\":{\"code\":\"ME\",\"name\":\"MIDDLE EAST AIRLINES AIRLIBAN\"}},{\"marketingFlightNumber\":6797,\"code\":\"F\",\"type\":\"PASSENGER\",\"airline\":{\"code\":\"VS\",\"name\":\"VIRGIN ATLANTIC AIRWAYS LIMITED\"}}],\"flightStatusPublic\":\"ARRIVED\",\"flightStatusPublicLangTransl\":\"Arrived\",\"flightLegs\":[{\"status\":\"S\",\"statusName\":\"Scheduled\",\"publishedStatus\":\"ARRIVED\",\"departureInformation\":{\"airport\":{\"code\":\"YUL\",\"name\":\"PIERRE E. TRUDEAU INTERNATIONAL AIRPORT\",\"nameLangTranl\":\"Pierre Elliott Trudeau International Airport\",\"city\":{\"code\":\"YMQ\",\"name\":\"MONTREAL\",\"nameLangTranl\":\"Montreal\",\"country\":{\"areaCode\":\"I\",\"code\":\"CA\",\"name\":\"CANADA\",\"nameLangTranl\":\"Canada\",\"euroCountry\":\"N\",\"euCountry\":\"N\"}},\"location\":{\"latitude\":45.4639,\"longitude\":-73.7500},\"places\":{\"checkInZone\":[\"\"]}},\"times\":{\"actual\":\"2022-10-28T21:52:00.000-04:00\",\"scheduled\":\"2022-10-28T21:55:00.000-04:00\",\"latestPublished\":\"2022-10-28T21:52:00.000-04:00\",\"actualTakeOffTime\":\"2022-10-28T22:05:00.000-04:00\"}},\"arrivalInformation\":{\"airport\":{\"code\":\"CDG\",\"name\":\"CHARLES DE GAULLE AIRPORT\",\"nameLangTranl\":\"Paris Charles de Gaulle Airport\",\"city\":{\"code\":\"PAR\",\"name\":\"PARIS\",\"nameLangTranl\":\"Paris\",\"country\":{\"areaCode\":\"E\",\"code\":\"FR\",\"name\":\"FRANCE\",\"nameLangTranl\":\"France\",\"euroCountry\":\"Y\",\"euCountry\":\"Y\"}},\"location\":{\"latitude\":49.0097,\"longitude\":2.5486},\"places\":{\"aerogareCode\":\"2\",\"gateNumber\":[\"\"],\"parkingPosition\":\"K58\",\"pierCode\":\"M\",\"terminalCode\":\"2E\",\"baggageBelt\":[\"31\"],\"arrivalPositionTerminal\":\"2E\",\"parkingPositionType\":\"C\",\"arrivalTerminal\":\"M\",\"parkingPositionCustomStatus\":\"I\",\"disembarkingContactType\":\"C\",\"disembarkingAerogare\":\"2\"}},\"times\":{\"actual\":\"2022-10-29T10:33:00.000+02:00\",\"scheduled\":\"2022-10-29T10:50:00.000+02:00\",\"latestPublished\":\"2022-10-29T10:33:00.000+02:00\",\"estimated\":{\"value\":\"2022-10-29T10:33:00.000+02:00\"},\"actualTouchDownTime\":\"2022-10-29T10:07:00.000+02:00\"}},\"legStatusPublic\":\"ARRIVED\",\"legStatusPublicLangTransl\":\"Arrived\",\"passengerCustomsStatus\":\"NOT SCHENGEN\",\"serviceType\":\"J\",\"serviceTypeName\":\"Normal Service\",\"restricted\":false,\"scheduledFlightDuration\":\"PT6H55M\",\"departureDateTimeDifference\":\"PT-3M\",\"arrivalDateTimeDifference\":\"PT-17M\",\"timeToArrival\":\"PT0S\",\"completionPercentage\":\"100\",\"timeZoneDifference\":\"+0600\",\"aircraft\":{\"registration\":\"FHTYM\",\"typeCode\":\"359\",\"typeName\":\"AIRBUS A350-900\",\"subFleetCodeId\":\"AB\",\"ownerAirlineCode\":\"AF\",\"ownerAirlineName\":\"AIR FRANCE\",\"physicalPaxConfiguration\":\"J034W024Y266\",\"physicalFreightConfiguration\":\"PP008LL012\",\"operationalConfiguration\":\"J034W024Y266\",\"cockpitCrewEmployer\":\"AF\",\"cabinCrewEmployer\":\"AF\",\"wifiEnabled\":\"Y\",\"satelliteConnectivityOnBoard\":\"Y\"},\"irregularity\":{\"cancelled\":\"N\"},\"otherFlightLegStatuses\":{\"boardingStatus\":\"Closed\"}}]},{\"flightNumber\":349,\"flightScheduleDate\":\"2022-10-30\",\"id\":\"20221030+AF+0349\",\"haul\":\"LONG\",\"route\":[\"YUL\",\"CDG\"],\"airline\":{\"code\":\"AF\",\"name\":\"AIR FRANCE\"},\"codeShareRelations\":[{\"marketingFlightNumber\":2587,\"code\":\"F\",\"type\":\"PASSENGER\",\"airline\":{\"code\":\"AZ\",\"name\":\"ITA AIRWAYS\"}},{\"marketingFlightNumber\":8613,\"code\":\"F\",\"type\":\"PASSENGER\",\"airline\":{\"code\":\"DL\",\"name\":\"DELTA AIR LINES INC.\"}},{\"marketingFlightNumber\":2441,\"code\":\"F\",\"type\":\"PASSENGER\",\"airline\":{\"code\":\"KL\",\"name\":\"KLM ROYAL DUTCH AIRLINES\"}},{\"marketingFlightNumber\":4349,\"code\":\"F\",\"type\":\"PASSENGER\",\"airline\":{\"code\":\"ME\",\"name\":\"MIDDLE EAST AIRLINES AIRLIBAN\"}},{\"marketingFlightNumber\":6797,\"code\":\"F\",\"type\":\"PASSENGER\",\"airline\":{\"code\":\"VS\",\"name\":\"VIRGIN ATLANTIC AIRWAYS LIMITED\"}}],\"flightStatusPublic\":\"ARRIVED\",\"flightStatusPublicLangTransl\":\"Arrived\",\"flightLegs\":[{\"status\":\"S\",\"statusName\":\"Scheduled\",\"publishedStatus\":\"ARRIVED\",\"departureInformation\":{\"airport\":{\"code\":\"YUL\",\"name\":\"PIERRE E. TRUDEAU INTERNATIONAL AIRPORT\",\"nameLangTranl\":\"Pierre Elliott Trudeau International Airport\",\"city\":{\"code\":\"YMQ\",\"name\":\"MONTREAL\",\"nameLangTranl\":\"Montreal\",\"country\":{\"areaCode\":\"I\",\"code\":\"CA\",\"name\":\"CANADA\",\"nameLangTranl\":\"Canada\",\"euroCountry\":\"N\",\"euCountry\":\"N\"}},\"location\":{\"latitude\":45.4639,\"longitude\":-73.7500},\"places\":{\"gateNumber\":[\"60\"],\"checkInZone\":[\"\"]}},\"times\":{\"actual\":\"2022-10-29T21:48:00.000-04:00\",\"scheduled\":\"2022-10-29T21:55:00.000-04:00\",\"latestPublished\":\"2022-10-29T21:48:00.000-04:00\",\"actualTakeOffTime\":\"2022-10-29T22:13:00.000-04:00\"},\"boardingTimes\":{\"plannedBoardingTime\":\"2022-10-29T21:10:00.000-04:00\",\"gateCloseTime\":\"2022-10-29T21:35:00.000-04:00\"}},\"arrivalInformation\":{\"airport\":{\"code\":\"CDG\",\"name\":\"CHARLES DE GAULLE AIRPORT\",\"nameLangTranl\":\"Paris Charles de Gaulle Airport\",\"city\":{\"code\":\"PAR\",\"name\":\"PARIS\",\"nameLangTranl\":\"Paris\",\"country\":{\"areaCode\":\"E\",\"code\":\"FR\",\"name\":\"FRANCE\",\"nameLangTranl\":\"France\",\"euroCountry\":\"Y\",\"euCountry\":\"Y\"}},\"location\":{\"latitude\":49.0097,\"longitude\":2.5486},\"places\":{\"aerogareCode\":\"2\",\"gateNumber\":[\"\"],\"parkingPosition\":\"K26\",\"pierCode\":\"M\",\"terminalCode\":\"2E\",\"baggageBelt\":[\"40\"],\"arrivalPositionTerminal\":\"2E\",\"parkingPositionType\":\"C\",\"arrivalTerminal\":\"M\",\"parkingPositionCustomStatus\":\"I\",\"disembarkingContactType\":\"C\",\"disembarkingAerogare\":\"2\"}},\"times\":{\"actual\":\"2022-10-30T09:40:00.000+01:00\",\"scheduled\":\"2022-10-30T09:50:00.000+01:00\",\"latestPublished\":\"2022-10-30T09:40:00.000+01:00\",\"estimated\":{\"value\":\"2022-10-30T09:40:00.000+01:00\"},\"actualTouchDownTime\":\"2022-10-30T09:27:00.000+01:00\"}},\"legStatusPublic\":\"ARRIVED\",\"legStatusPublicLangTransl\":\"Arrived\",\"passengerCustomsStatus\":\"NOT SCHENGEN\",\"serviceType\":\"J\",\"serviceTypeName\":\"Normal Service\",\"restricted\":false,\"scheduledFlightDuration\":\"PT6H55M\",\"departureDateTimeDifference\":\"PT-7M\",\"arrivalDateTimeDifference\":\"PT-10M\",\"timeToArrival\":\"PT0S\",\"completionPercentage\":\"100\",\"timeZoneDifference\":\"+0500\",\"aircraft\":{\"registration\":\"FHTYE\",\"typeCode\":\"359\",\"typeName\":\"AIRBUS A350-900\",\"subFleetCodeId\":\"AB\",\"ownerAirlineCode\":\"AF\",\"ownerAirlineName\":\"AIR FRANCE\",\"physicalPaxConfiguration\":\"J034W024Y266\",\"physicalFreightConfiguration\":\"PP008LL012\",\"operationalConfiguration\":\"J034W024Y266\",\"cockpitCrewEmployer\":\"AF\",\"cabinCrewEmployer\":\"AF\",\"wifiEnabled\":\"Y\",\"satelliteConnectivityOnBoard\":\"Y\"},\"irregularity\":{\"cancelled\":\"N\"},\"otherFlightLegStatuses\":{\"boardingStatus\":\"Closed\"}}]},{\"flightNumber\":349,\"flightScheduleDate\":\"2022-10-31\",\"id\":\"20221031+AF+0349\",\"haul\":\"LONG\",\"route\":[\"YUL\",\"CDG\"],\"airline\":{\"code\":\"AF\",\"name\":\"AIR FRANCE\"},\"codeShareRelations\":[{\"marketingFlightNumber\":2587,\"code\":\"F\",\"type\":\"PASSENGER\",\"airline\":{\"code\":\"AZ\",\"name\":\"ITA AIRWAYS\"}},{\"marketingFlightNumber\":8613,\"code\":\"F\",\"type\":\"PASSENGER\",\"airline\":{\"code\":\"DL\",\"name\":\"DELTA AIR LINES INC.\"}},{\"marketingFlightNumber\":2441,\"code\":\"F\",\"type\":\"PASSENGER\",\"airline\":{\"code\":\"KL\",\"name\":\"KLM ROYAL DUTCH AIRLINES\"}},{\"marketingFlightNumber\":4349,\"code\":\"F\",\"type\":\"PASSENGER\",\"airline\":{\"code\":\"ME\",\"name\":\"MIDDLE EAST AIRLINES AIRLIBAN\"}},{\"marketingFlightNumber\":6797,\"code\":\"F\",\"type\":\"PASSENGER\",\"airline\":{\"code\":\"VS\",\"name\":\"VIRGIN ATLANTIC AIRWAYS LIMITED\"}}],\"flightStatusPublic\":\"ON_TIME\",\"flightStatusPublicLangTransl\":\"On time\",\"flightLegs\":[{\"status\":\"S\",\"statusName\":\"Scheduled\",\"publishedStatus\":\"ONTIME\",\"departureInformation\":{\"airport\":{\"code\":\"YUL\",\"name\":\"PIERRE E. TRUDEAU INTERNATIONAL AIRPORT\",\"nameLangTranl\":\"Pierre Elliott Trudeau International Airport\",\"city\":{\"code\":\"YMQ\",\"name\":\"MONTREAL\",\"nameLangTranl\":\"Montreal\",\"country\":{\"areaCode\":\"I\",\"code\":\"CA\",\"name\":\"CANADA\",\"nameLangTranl\":\"Canada\",\"euroCountry\":\"N\",\"euCountry\":\"N\"}},\"location\":{\"latitude\":45.4639,\"longitude\":-73.7500},\"places\":{\"checkInZone\":[\"\"]}},\"times\":{\"scheduled\":\"2022-10-30T22:45:00.000-04:00\",\"latestPublished\":\"2022-10-30T22:45:00.000-04:00\"}},\"arrivalInformation\":{\"airport\":{\"code\":\"CDG\",\"name\":\"CHARLES DE GAULLE AIRPORT\",\"nameLangTranl\":\"Paris Charles de Gaulle Airport\",\"city\":{\"code\":\"PAR\",\"name\":\"PARIS\",\"nameLangTranl\":\"Paris\",\"country\":{\"areaCode\":\"E\",\"code\":\"FR\",\"name\":\"FRANCE\",\"nameLangTranl\":\"France\",\"euroCountry\":\"Y\",\"euCountry\":\"Y\"}},\"location\":{\"latitude\":49.0097,\"longitude\":2.5486},\"places\":{\"aerogareCode\":\"2\",\"gateNumber\":[\"\"],\"terminalCode\":\"2E\",\"baggageBelt\":[\"42\"],\"arrivalPositionTerminal\":\"2E\",\"disembarkingAerogare\":\"2\"}},\"times\":{\"scheduled\":\"2022-10-31T10:45:00.000+01:00\",\"latestPublished\":\"2022-10-31T10:45:00.000+01:00\",\"estimated\":{\"value\":\"2022-10-31T10:45:00.000+01:00\"}}},\"legStatusPublic\":\"ON_TIME\",\"legStatusPublicLangTransl\":\"On time\",\"passengerCustomsStatus\":\"NOT SCHENGEN\",\"serviceType\":\"J\",\"serviceTypeName\":\"Normal Service\",\"restricted\":false,\"scheduledFlightDuration\":\"PT7H\",\"completionPercentage\":\"0\",\"timeZoneDifference\":\"+0500\",\"aircraft\":{\"registration\":\"FHRBE\",\"typeCode\":\"789\",\"typeName\":\"BOEING 787-9\",\"subFleetCodeId\":\"BB\",\"ownerAirlineCode\":\"AF\",\"ownerAirlineName\":\"AIR FRANCE\",\"physicalPaxConfiguration\":\"J030W021Y228\",\"physicalFreightConfiguration\":\"PP009LL006\",\"operationalConfiguration\":\"J030W021Y228\",\"cockpitCrewEmployer\":\"AF\",\"cabinCrewEmployer\":\"AF\",\"wifiEnabled\":\"Y\",\"satelliteConnectivityOnBoard\":\"Y\"},\"irregularity\":{\"cancelled\":\"N\"},\"otherFlightLegStatuses\":{\"boardingStatus\":\"Not Open\"}}]},{\"flightNumber\":349,\"flightScheduleDate\":\"2022-11-01\",\"id\":\"20221101+AF+0349\",\"haul\":\"LONG\",\"route\":[\"YUL\",\"CDG\"],\"airline\":{\"code\":\"AF\",\"name\":\"AIR FRANCE\"},\"codeShareRelations\":[{\"marketingFlightNumber\":2587,\"code\":\"F\",\"type\":\"PASSENGER\",\"airline\":{\"code\":\"AZ\",\"name\":\"ITA AIRWAYS\"}},{\"marketingFlightNumber\":8613,\"code\":\"F\",\"type\":\"PASSENGER\",\"airline\":{\"code\":\"DL\",\"name\":\"DELTA AIR LINES INC.\"}},{\"marketingFlightNumber\":2441,\"code\":\"F\",\"type\":\"PASSENGER\",\"airline\":{\"code\":\"KL\",\"name\":\"KLM ROYAL DUTCH AIRLINES\"}},{\"marketingFlightNumber\":4349,\"code\":\"F\",\"type\":\"PASSENGER\",\"airline\":{\"code\":\"ME\",\"name\":\"MIDDLE EAST AIRLINES AIRLIBAN\"}},{\"marketingFlightNumber\":6797,\"code\":\"F\",\"type\":\"PASSENGER\",\"airline\":{\"code\":\"VS\",\"name\":\"VIRGIN ATLANTIC AIRWAYS LIMITED\"}}],\"flightStatusPublic\":\"SCHEDULED\",\"flightStatusPublicLangTransl\":\"Scheduled\",\"flightLegs\":[{\"status\":\"S\",\"statusName\":\"Scheduled\",\"publishedStatus\":\"ONTIME\",\"departureInformation\":{\"airport\":{\"code\":\"YUL\",\"name\":\"PIERRE E. TRUDEAU INTERNATIONAL AIRPORT\",\"nameLangTranl\":\"Pierre Elliott Trudeau International Airport\",\"city\":{\"code\":\"YMQ\",\"name\":\"MONTREAL\",\"nameLangTranl\":\"Montreal\",\"country\":{\"areaCode\":\"I\",\"code\":\"CA\",\"name\":\"CANADA\",\"nameLangTranl\":\"Canada\",\"euroCountry\":\"N\",\"euCountry\":\"N\"}},\"location\":{\"latitude\":45.4639,\"longitude\":-73.7500},\"places\":{\"checkInZone\":[\"\"]}},\"times\":{\"scheduled\":\"2022-10-31T22:45:00.000-04:00\",\"latestPublished\":\"2022-10-31T22:45:00.000-04:00\"}},\"arrivalInformation\":{\"airport\":{\"code\":\"CDG\",\"name\":\"CHARLES DE GAULLE AIRPORT\",\"nameLangTranl\":\"Paris Charles de Gaulle Airport\",\"city\":{\"code\":\"PAR\",\"name\":\"PARIS\",\"nameLangTranl\":\"Paris\",\"country\":{\"areaCode\":\"E\",\"code\":\"FR\",\"name\":\"FRANCE\",\"nameLangTranl\":\"France\",\"euroCountry\":\"Y\",\"euCountry\":\"Y\"}},\"location\":{\"latitude\":49.0097,\"longitude\":2.5486},\"places\":{\"aerogareCode\":\"2\",\"gateNumber\":[\"\"],\"terminalCode\":\"2E\",\"baggageBelt\":[\"\"],\"arrivalPositionTerminal\":\"2E\",\"disembarkingAerogare\":\"2\"}},\"times\":{\"scheduled\":\"2022-11-01T10:45:00.000+01:00\",\"latestPublished\":\"2022-11-01T10:45:00.000+01:00\",\"estimated\":{\"value\":\"2022-11-01T10:45:00.000+01:00\"}}},\"legStatusPublic\":\"SCHEDULED\",\"legStatusPublicLangTransl\":\"Scheduled\",\"passengerCustomsStatus\":\"NOT SCHENGEN\",\"serviceType\":\"J\",\"serviceTypeName\":\"Normal Service\",\"restricted\":false,\"scheduledFlightDuration\":\"PT7H\",\"completionPercentage\":\"0\",\"timeZoneDifference\":\"+0500\",\"aircraft\":{\"registration\":\"FHRBE\",\"typeCode\":\"789\",\"typeName\":\"BOEING 787-9\",\"subFleetCodeId\":\"BB\",\"ownerAirlineCode\":\"AF\",\"ownerAirlineName\":\"AIR FRANCE\",\"physicalPaxConfiguration\":\"J030W021Y228\",\"physicalFreightConfiguration\":\"PP008LL010\",\"operationalConfiguration\":\"J030W021Y228\",\"cockpitCrewEmployer\":\"AF\",\"cabinCrewEmployer\":\"AF\",\"wifiEnabled\":\"Y\",\"satelliteConnectivityOnBoard\":\"Y\"},\"irregularity\":{\"cancelled\":\"N\"},\"otherFlightLegStatuses\":{\"acceptanceStatus\":\"Open\",\"boardingStatus\":\"Not Open\"}}]},{\"flightNumber\":349,\"flightScheduleDate\":\"2022-11-03\",\"id\":\"20221103+AF+0349\",\"route\":[\"YUL\",\"CDG\"],\"airline\":{\"code\":\"AF\",\"name\":\"AIR FRANCE\"},\"codeShareRelations\":[{\"marketingFlightNumber\":2587,\"code\":\"F\",\"type\":\"PASSENGER\",\"airline\":{\"code\":\"AZ\",\"name\":\"ITA AIRWAYS\"}},{\"marketingFlightNumber\":8613,\"code\":\"F\",\"type\":\"PASSENGER\",\"airline\":{\"code\":\"DL\",\"name\":\"DELTA AIR LINES INC.\"}},{\"marketingFlightNumber\":2441,\"code\":\"F\",\"type\":\"PASSENGER\",\"airline\":{\"code\":\"KL\",\"name\":\"KLM ROYAL DUTCH AIRLINES\"}},{\"marketingFlightNumber\":4349,\"code\":\"F\",\"type\":\"PASSENGER\",\"airline\":{\"code\":\"ME\",\"name\":\"MIDDLE EAST AIRLINES AIRLIBAN\"}},{\"marketingFlightNumber\":6797,\"code\":\"F\",\"type\":\"PASSENGER\",\"airline\":{\"code\":\"VS\",\"name\":\"VIRGIN ATLANTIC AIRWAYS LIMITED\"}}],\"flightStatusPublic\":\"SCHEDULED\",\"flightStatusPublicLangTransl\":\"Scheduled\",\"flightLegs\":[{\"status\":\"S\",\"statusName\":\"Scheduled\",\"publishedStatus\":\"ONTIME\",\"departureInformation\":{\"airport\":{\"code\":\"YUL\",\"name\":\"PIERRE E. TRUDEAU INTERNATIONAL AIRPORT\",\"nameLangTranl\":\"Pierre Elliott Trudeau International Airport\",\"city\":{\"code\":\"YMQ\",\"name\":\"MONTREAL\",\"nameLangTranl\":\"Montreal\",\"country\":{\"areaCode\":\"I\",\"code\":\"CA\",\"name\":\"CANADA\",\"nameLangTranl\":\"Canada\",\"euroCountry\":\"N\",\"euCountry\":\"N\"}},\"location\":{\"latitude\":45.4639,\"longitude\":-73.7500}},\"times\":{\"scheduled\":\"2022-11-02T22:45:00.000-04:00\",\"latestPublished\":\"2022-11-02T22:45:00.000-04:00\"}},\"arrivalInformation\":{\"airport\":{\"code\":\"CDG\",\"name\":\"CHARLES DE GAULLE AIRPORT\",\"nameLangTranl\":\"Paris Charles de Gaulle Airport\",\"city\":{\"code\":\"PAR\",\"name\":\"PARIS\",\"nameLangTranl\":\"Paris\",\"country\":{\"areaCode\":\"E\",\"code\":\"FR\",\"name\":\"FRANCE\",\"nameLangTranl\":\"France\",\"euroCountry\":\"Y\",\"euCountry\":\"Y\"}},\"location\":{\"latitude\":49.0097,\"longitude\":2.5486},\"places\":{\"arrivalPositionTerminal\":\"2E\"}},\"times\":{\"scheduled\":\"2022-11-03T10:45:00.000+01:00\",\"latestPublished\":\"2022-11-03T10:45:00.000+01:00\",\"estimated\":{\"value\":\"2022-11-03T10:45:00.000+01:00\"}}},\"legStatusPublic\":\"SCHEDULED\",\"legStatusPublicLangTransl\":\"Scheduled\",\"passengerCustomsStatus\":\"NOT SCHENGEN\",\"serviceType\":\"J\",\"serviceTypeName\":\"Normal Service\",\"restricted\":false,\"scheduledFlightDuration\":\"PT7H\",\"completionPercentage\":\"0\",\"timeZoneDifference\":\"+0500\",\"aircraft\":{\"typeCode\":\"789\",\"typeName\":\"BOEING 787-9\",\"ownerAirlineCode\":\"AF\",\"ownerAirlineName\":\"AIR FRANCE\",\"physicalPaxConfiguration\":\"J030W021Y228\",\"physicalFreightConfiguration\":\"PP008LL010\",\"operationalConfiguration\":\"J030W021Y228\",\"cockpitCrewEmployer\":\"AF\",\"cabinCrewEmployer\":\"AF\"},\"irregularity\":{\"cancelled\":\"N\"}}]}],\"page\":{\"pageSize\":5,\"pageNumber\":0,\"fullCount\":5,\"pageCount\":5,\"totalPages\":1}}\n"
     ]
    }
   ],
   "source": [
    "import requests\n",
    "url = 'https://api.airfranceklm.com/opendata/flightstatus/' \n",
    "url += '?carrierCode=AF'\n",
    "url += '&flightNumber=349'\n",
    "url += '&startRange='+startDate\n",
    "url += '&endRange='+endDate\n",
    "print(url)\n",
    "headers={\n",
    "    'accept-language':'en-GB'\n",
    "    ,'Api-Key':apiKey\n",
    "}\n",
    "response = requests.request('GET', url, headers=headers)\n",
    "print(response.text)"
   ]
  }
 ],
 "metadata": {
  "kernelspec": {
   "display_name": "Python 3.9.13 64-bit (microsoft store)",
   "language": "python",
   "name": "python3"
  },
  "language_info": {
   "codemirror_mode": {
    "name": "ipython",
    "version": 3
   },
   "file_extension": ".py",
   "mimetype": "text/x-python",
   "name": "python",
   "nbconvert_exporter": "python",
   "pygments_lexer": "ipython3",
   "version": "3.9.13"
  },
  "orig_nbformat": 4,
  "vscode": {
   "interpreter": {
    "hash": "6039214bc14160885637f92d82ba9fcad86bce37363ef5771b5906fddd9d8a98"
   }
  }
 },
 "nbformat": 4,
 "nbformat_minor": 2
}
