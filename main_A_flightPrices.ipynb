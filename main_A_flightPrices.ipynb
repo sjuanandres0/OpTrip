{
 "cells": [
  {
   "cell_type": "markdown",
   "metadata": {},
   "source": [
    "# EDA (Exploratory Data Analysis)\n",
    "<p>Lufthansa</p>"
   ]
  },
  {
   "cell_type": "code",
   "execution_count": 1,
   "metadata": {},
   "outputs": [],
   "source": [
    "from ignore.secrets import apiKeyA, apiSecretA, botId, chatId\n",
    "apiKey = apiKeyA\n",
    "apiSecret = apiSecretA\n",
    "botId = botId\n",
    "chatId = chatId\n"
   ]
  },
  {
   "cell_type": "code",
   "execution_count": 2,
   "metadata": {},
   "outputs": [],
   "source": [
    "# https://developer.lufthansa.com/docs/read/api_partner/offers/Lowest_Fares_New"
   ]
  },
  {
   "cell_type": "code",
   "execution_count": 3,
   "metadata": {},
   "outputs": [
    {
     "name": "stdout",
     "output_type": "stream",
     "text": [
      "startDate:\t 2022-10-28T18:41:27Z\n",
      "endDate:\t 2022-11-04T18:41:27Z\n"
     ]
    }
   ],
   "source": [
    "import datetime\n",
    "\n",
    "def formatDate(date):\n",
    "    return date.strftime(\"%Y-%m-%dT%H:%M:%SZ\")\n",
    "    \n",
    "def getDateRange(substractDays=2, addDays=-5):\n",
    "    now = datetime.datetime.now()\n",
    "    startDate = now - datetime.timedelta(days = 2)\n",
    "    endDate = now - datetime.timedelta(days = -5)\n",
    "    return formatDate(startDate), formatDate(endDate)\n",
    "\n",
    "startDate, endDate = getDateRange()\n",
    "print('startDate:\\t', startDate)\n",
    "print('endDate:\\t', endDate)"
   ]
  },
  {
   "cell_type": "code",
   "execution_count": 4,
   "metadata": {},
   "outputs": [],
   "source": [
    "import requests\n",
    "\n",
    "def sendMsg(message='Test'):\n",
    "    apiUrl = 'https://api.telegram.org/bot{}/sendMessage?chat_id={}&text={}'.format(botId, chatId, message)\n",
    "    requests.get(apiUrl)"
   ]
  },
  {
   "cell_type": "code",
   "execution_count": 38,
   "metadata": {},
   "outputs": [],
   "source": [
    "# sendMsg()"
   ]
  },
  {
   "cell_type": "code",
   "execution_count": 5,
   "metadata": {},
   "outputs": [
    {
     "name": "stdout",
     "output_type": "stream",
     "text": [
      "GrBBG8TcbOsN4A7zFEzX5Lm0JCVA\n"
     ]
    }
   ],
   "source": [
    "# Get token:\n",
    "# https://stackoverflow.com/questions/20461194/conversion-of-curl-to-python-requests\n",
    "# https://curlconverter.com/\n",
    "# curl \"https://test.api.amadeus.com/v1/security/oauth2/token\" \\\n",
    "#      -H \"Content-Type: application/x-www-form-urlencoded\" \\\n",
    "#      -d \"grant_type=client_credentials&client_id={client_id}&client_secret={client_secret}\"\n",
    "\n",
    "import requests\n",
    "\n",
    "data = {\n",
    "    'client_id': apiKey,\n",
    "    'client_secret': apiSecret,\n",
    "    'grant_type': 'client_credentials',\n",
    "}\n",
    "\n",
    "response = requests.post('https://test.api.amadeus.com/v1/security/oauth2/token', data=data)\n",
    "accessToken = response.json()['access_token']\n",
    "print(accessToken)"
   ]
  },
  {
   "cell_type": "code",
   "execution_count": 24,
   "metadata": {},
   "outputs": [
    {
     "name": "stdout",
     "output_type": "stream",
     "text": [
      "https://test.api.amadeus.com/v1/analytics/itinerary-price-metrics?originIataCode=AMS&destinationIataCode=CDG&departureDate=2022-11-21&oneWay=false\n",
      "{\"warnings\": [], \"data\": [{\"type\": \"itinerary-price-metric\", \"origin\": {\"iataCode\": \"AMS\"}, \"destination\": {\"iataCode\": \"CDG\"}, \"departureDate\": \"2022-11-21\", \"transportType\": \"FLIGHT\", \"currencyCode\": \"EUR\", \"oneWay\": false, \"priceMetrics\": [{\"amount\": \"48.52\", \"quartileRanking\": \"MINIMUM\"}, {\"amount\": \"228.88\", \"quartileRanking\": \"FIRST\"}, {\"amount\": \"373.29\", \"quartileRanking\": \"MEDIUM\"}, {\"amount\": \"453.77\", \"quartileRanking\": \"THIRD\"}, {\"amount\": \"597.65\", \"quartileRanking\": \"MAXIMUM\"}]}], \"meta\": {\"count\": 1, \"links\": {\"self\": \"https://test.api.amadeus.com/v1/analytics/flight-price-metrics?originIataCode=AMS&destinationIataCode=CDG&departureDate=2022-11-21&currencyCode=EUR&oneWay=False\"}}}\n"
     ]
    }
   ],
   "source": [
    "# https://github.com/amadeus4dev/data-collection\n",
    "import requests\n",
    "url = 'https://test.api.amadeus.com/v1/shopping/flight-destinations?origin=CPH&maxPrice=200'\n",
    "url = 'https://test.api.amadeus.com/v2/reference-data/urls/checkin-links?airline=IB'\n",
    "url = 'https://test.api.amadeus.com/v1/airport/direct-destinations?departureAirportCode=AMS' # works\n",
    "url = 'https://test.api.amadeus.com/v1/shopping/flight-destinations?origin=AMS&departureDate=2022-11-11&oneWay=false&nonStop=true' # doesnt work\n",
    "url = 'https://test.api.amadeus.com/v1/analytics/itinerary-price-metrics?originIataCode=AMS&destinationIataCode=CDG&departureDate=2022-11-21&currencyCode=EUR&oneWay=false'\n",
    "url = 'https://test.api.amadeus.com/v1/analytics/itinerary-price-metrics?originIataCode=AMS&destinationIataCode=CDG&departureDate=2022-11-21&oneWay=false' \n",
    "\n",
    "print(url)\n",
    "headers={\n",
    "    'Accept': 'application/json'\n",
    "    ,'Content-Type': 'application/json'\n",
    "    ,'Authorization': 'Bearer ' + accessToken\n",
    "}\n",
    "response = requests.request('GET', url, headers=headers)\n",
    "print(response.text)"
   ]
  },
  {
   "cell_type": "code",
   "execution_count": 93,
   "metadata": {},
   "outputs": [
    {
     "name": "stdout",
     "output_type": "stream",
     "text": [
      "https://api.lufthansa.com/v1/mds-references/airports/?lang=EN&limit=20&offset=0&LHoperated=1&group=AllAirports\n",
      "{\"AirportResource\":{\"Airports\":{\"Airport\":[{\"AirportCode\":\"AAE\",\"Position\":{\"Coordinate\":{\"Latitude\":36.8222,\"Longitude\":7.8092}},\"CityCode\":\"AAE\",\"CountryCode\":\"DZ\",\"LocationType\":\"Airport\",\"Names\":{\"Name\":{\"@LanguageCode\":\"EN\",\"$\":\"Annaba Rabah Bitat\"}},\"UtcOffset\":\"+01:00\",\"TimeZoneId\":\"Africa/Algiers\"},{\"AirportCode\":\"AAL\",\"Position\":{\"Coordinate\":{\"Latitude\":57.0928,\"Longitude\":9.8492}},\"CityCode\":\"AAL\",\"CountryCode\":\"DK\",\"LocationType\":\"Airport\",\"Names\":{\"Name\":{\"@LanguageCode\":\"EN\",\"$\":\"Aalborg\"}},\"UtcOffset\":\"+01:00\",\"TimeZoneId\":\"Europe/Copenhagen\"},{\"AirportCode\":\"AAQ\",\"Position\":{\"Coordinate\":{\"Latitude\":45.0022,\"Longitude\":37.3472}},\"CityCode\":\"AAQ\",\"CountryCode\":\"RU\",\"LocationType\":\"Airport\",\"Names\":{\"Name\":{\"@LanguageCode\":\"EN\",\"$\":\"Anapa\"}},\"UtcOffset\":\"+03:00\",\"TimeZoneId\":\"Europe/Moscow\"},{\"AirportCode\":\"AAR\",\"Position\":{\"Coordinate\":{\"Latitude\":56.3039,\"Longitude\":10.6194}},\"CityCode\":\"AAR\",\"CountryCode\":\"DK\",\"LocationType\":\"Airport\",\"Names\":{\"Name\":{\"@LanguageCode\":\"EN\",\"$\":\"Aarhus Tirstrup\"}},\"UtcOffset\":\"+01:00\",\"TimeZoneId\":\"Europe/Copenhagen\"},{\"AirportCode\":\"ABE\",\"Position\":{\"Coordinate\":{\"Latitude\":40.6522,\"Longitude\":-75.4408}},\"CityCode\":\"ABE\",\"CountryCode\":\"US\",\"LocationType\":\"Airport\",\"Names\":{\"Name\":{\"@LanguageCode\":\"EN\",\"$\":\"Allentown/Bethlehem\"}},\"UtcOffset\":\"-05:00\",\"TimeZoneId\":\"America/New_York\"},{\"AirportCode\":\"ABI\",\"Position\":{\"Coordinate\":{\"Latitude\":32.4114,\"Longitude\":-99.6819}},\"CityCode\":\"ABI\",\"CountryCode\":\"US\",\"LocationType\":\"Airport\",\"Names\":{\"Name\":{\"@LanguageCode\":\"EN\",\"$\":\"Abilene\"}},\"UtcOffset\":\"-06:00\",\"TimeZoneId\":\"America/Chicago\"},{\"AirportCode\":\"ABJ\",\"Position\":{\"Coordinate\":{\"Latitude\":5.2614,\"Longitude\":-3.9264}},\"CityCode\":\"ABJ\",\"CountryCode\":\"CI\",\"LocationType\":\"Airport\",\"Names\":{\"Name\":{\"@LanguageCode\":\"EN\",\"$\":\"Abidjan\"}},\"UtcOffset\":\"+00:00\",\"TimeZoneId\":\"Africa/Abidjan\"},{\"AirportCode\":\"ABK\",\"Position\":{\"Coordinate\":{\"Latitude\":6.7339,\"Longitude\":44.2553}},\"CityCode\":\"ABK\",\"CountryCode\":\"ET\",\"LocationType\":\"Airport\",\"Names\":{\"Name\":{\"@LanguageCode\":\"EN\",\"$\":\"Kabri Dar\"}},\"UtcOffset\":\"+03:00\",\"TimeZoneId\":\"Africa/Addis_Ababa\"},{\"AirportCode\":\"ABQ\",\"Position\":{\"Coordinate\":{\"Latitude\":35.0406,\"Longitude\":-106.6094}},\"CityCode\":\"ABQ\",\"CountryCode\":\"US\",\"LocationType\":\"Airport\",\"Names\":{\"Name\":{\"@LanguageCode\":\"EN\",\"$\":\"Albuquerque\"}},\"UtcOffset\":\"-07:00\",\"TimeZoneId\":\"America/Denver\"},{\"AirportCode\":\"ABS\",\"Position\":{\"Coordinate\":{\"Latitude\":22.3758,\"Longitude\":31.6117}},\"CityCode\":\"ABS\",\"CountryCode\":\"EG\",\"LocationType\":\"Airport\",\"Names\":{\"Name\":{\"@LanguageCode\":\"EN\",\"$\":\"Abu Simbel\"}},\"UtcOffset\":\"+02:00\",\"TimeZoneId\":\"Africa/Cairo\"},{\"AirportCode\":\"ABV\",\"Position\":{\"Coordinate\":{\"Latitude\":9.0067,\"Longitude\":7.2631}},\"CityCode\":\"ABV\",\"CountryCode\":\"NG\",\"LocationType\":\"Airport\",\"Names\":{\"Name\":{\"@LanguageCode\":\"EN\",\"$\":\"Abuja\"}},\"UtcOffset\":\"+01:00\",\"TimeZoneId\":\"Africa/Lagos\"},{\"AirportCode\":\"ABY\",\"Position\":{\"Coordinate\":{\"Latitude\":31.5356,\"Longitude\":-84.1944}},\"CityCode\":\"ABY\",\"CountryCode\":\"US\",\"LocationType\":\"Airport\",\"Names\":{\"Name\":{\"@LanguageCode\":\"EN\",\"$\":\"Albany (US)\"}},\"UtcOffset\":\"-05:00\",\"TimeZoneId\":\"America/New_York\"},{\"AirportCode\":\"ABZ\",\"Position\":{\"Coordinate\":{\"Latitude\":57.2042,\"Longitude\":-2.2003}},\"CityCode\":\"ABZ\",\"CountryCode\":\"GB\",\"LocationType\":\"Airport\",\"Names\":{\"Name\":{\"@LanguageCode\":\"EN\",\"$\":\"Aberdeen (GB)\"}},\"UtcOffset\":\"+00:00\",\"TimeZoneId\":\"Europe/London\"},{\"AirportCode\":\"ACA\",\"Position\":{\"Coordinate\":{\"Latitude\":16.7569,\"Longitude\":-99.7539}},\"CityCode\":\"ACA\",\"CountryCode\":\"MX\",\"LocationType\":\"Airport\",\"Names\":{\"Name\":{\"@LanguageCode\":\"EN\",\"$\":\"Acapulco\"}},\"UtcOffset\":\"-06:00\",\"TimeZoneId\":\"America/Mexico_City\"},{\"AirportCode\":\"ACC\",\"Position\":{\"Coordinate\":{\"Latitude\":5.6053,\"Longitude\":-0.1667}},\"CityCode\":\"ACC\",\"CountryCode\":\"GH\",\"LocationType\":\"Airport\",\"Names\":{\"Name\":{\"@LanguageCode\":\"EN\",\"$\":\"Accra\"}},\"UtcOffset\":\"+00:00\",\"TimeZoneId\":\"Africa/Accra\"},{\"AirportCode\":\"ACE\",\"Position\":{\"Coordinate\":{\"Latitude\":28.9456,\"Longitude\":-13.6053}},\"CityCode\":\"ACE\",\"CountryCode\":\"ES\",\"LocationType\":\"Airport\",\"Names\":{\"Name\":{\"@LanguageCode\":\"EN\",\"$\":\"Lanzarote\"}},\"UtcOffset\":\"+00:00\",\"TimeZoneId\":\"Atlantic/Canary\"},{\"AirportCode\":\"ACT\",\"Position\":{\"Coordinate\":{\"Latitude\":31.6114,\"Longitude\":-97.2306}},\"CityCode\":\"ACT\",\"CountryCode\":\"US\",\"LocationType\":\"Airport\",\"Names\":{\"Name\":{\"@LanguageCode\":\"EN\",\"$\":\"Waco\"}},\"UtcOffset\":\"-06:00\",\"TimeZoneId\":\"America/Chicago\"},{\"AirportCode\":\"ACV\",\"Position\":{\"Coordinate\":{\"Latitude\":40.9781,\"Longitude\":-124.1086}},\"CityCode\":\"ACV\",\"CountryCode\":\"US\",\"LocationType\":\"Airport\",\"Names\":{\"Name\":{\"@LanguageCode\":\"EN\",\"$\":\"Arcata/Eureka\"}},\"UtcOffset\":\"-08:00\",\"TimeZoneId\":\"America/Los_Angeles\"},{\"AirportCode\":\"ADA\",\"Position\":{\"Coordinate\":{\"Latitude\":36.9822,\"Longitude\":35.2803}},\"CityCode\":\"ADA\",\"CountryCode\":\"TR\",\"LocationType\":\"Airport\",\"Names\":{\"Name\":{\"@LanguageCode\":\"EN\",\"$\":\"Adana\"}},\"UtcOffset\":\"+03:00\",\"TimeZoneId\":\"Europe/Istanbul\"},{\"AirportCode\":\"ADB\",\"Position\":{\"Coordinate\":{\"Latitude\":38.2925,\"Longitude\":27.1569}},\"CityCode\":\"IZM\",\"CountryCode\":\"TR\",\"LocationType\":\"Airport\",\"Names\":{\"Name\":{\"@LanguageCode\":\"EN\",\"$\":\"Izmir\"}},\"UtcOffset\":\"+03:00\",\"TimeZoneId\":\"Europe/Istanbul\"}]},\"Meta\":{\"@Version\":\"1.0.0\",\"Link\":[{\"@Href\":\"https://api.lufthansa.com/v1/mds-references/airports/?lang=EN&limit=20&offset=0&LHoperated=1&group=AllAirports\",\"@Rel\":\"self\"},{\"@Href\":\"https://api.lufthansa.com/v1/mds-references/airports/?lang=EN&limit=20&offset=20&LHoperated=1&group=AllAirports\",\"@Rel\":\"next\"},{\"@Href\":\"https://api.lufthansa.com/v1/mds-references/airports/?lang=EN&limit=20&offset=1460&LHoperated=1&group=AllAirports\",\"@Rel\":\"last\"},{\"@Href\":\"https://api.lufthansa.com/v1/mds-references/cities/{cityCode}\",\"@Rel\":\"related\"},{\"@Href\":\"https://api.lufthansa.com/v1/mds-references/countries/{countryCode}\",\"@Rel\":\"related\"}],\"TotalCount\":1461}}}\n"
     ]
    }
   ],
   "source": [
    "import requests\n",
    "# url = 'https://api.lufthansa.com/v1/offers/faresbestprice/lowestfares?origin=FRA&destination=LHR&travel-date=2016-10-27&return-date=2016-11-09&cabin-class=Economy&travelers=(adult=1)&country=de'\n",
    "url = 'https://api.lufthansa.com/v1'\n",
    "url += '/promotions/priceoffers/flights/ond/FRA/AMS?departureDate=2022-11-01&returnDate=2022-12-02&service=amadeusBestPrice' \n",
    "url = 'https://api.lufthansa.com/v1/mds-references/airports/?lang=EN&limit=20&offset=0&LHoperated=1&group=AllAirports' \n",
    "print(url)\n",
    "headers={\n",
    "    'Accept': 'application/json'\n",
    "    ,'Content-Type': 'application/json'\n",
    "    ,'Authorization': 'Bearer ' + accessToken\n",
    "}\n",
    "response = requests.request('GET', url, headers=headers)\n",
    "print(response.text)"
   ]
  },
  {
   "cell_type": "code",
   "execution_count": null,
   "metadata": {},
   "outputs": [],
   "source": []
  }
 ],
 "metadata": {
  "kernelspec": {
   "display_name": "Python 3.9.13 64-bit (microsoft store)",
   "language": "python",
   "name": "python3"
  },
  "language_info": {
   "codemirror_mode": {
    "name": "ipython",
    "version": 3
   },
   "file_extension": ".py",
   "mimetype": "text/x-python",
   "name": "python",
   "nbconvert_exporter": "python",
   "pygments_lexer": "ipython3",
   "version": "3.9.13"
  },
  "orig_nbformat": 4,
  "vscode": {
   "interpreter": {
    "hash": "6039214bc14160885637f92d82ba9fcad86bce37363ef5771b5906fddd9d8a98"
   }
  }
 },
 "nbformat": 4,
 "nbformat_minor": 2
}
