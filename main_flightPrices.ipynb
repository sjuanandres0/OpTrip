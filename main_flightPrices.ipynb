{
 "cells": [
  {
   "cell_type": "markdown",
   "metadata": {},
   "source": [
    "# EDA (Exploratory Data Analysis)\n",
    "<p>Flight Prices</p>\n",
    "<p>AF 8224</p>\n",
    "<p>CDG-AMS</p>"
   ]
  },
  {
   "cell_type": "code",
   "execution_count": 6,
   "metadata": {},
   "outputs": [],
   "source": [
    "from ignore.secrets import apiKey, botId, chatId\n",
    "apiKey = apiKey\n",
    "botId = botId\n",
    "chatId = chatId\n"
   ]
  },
  {
   "cell_type": "code",
   "execution_count": 7,
   "metadata": {},
   "outputs": [
    {
     "name": "stdout",
     "output_type": "stream",
     "text": [
      "startDate:\t 2022-10-28T12:20:51Z\n",
      "endDate:\t 2022-11-04T12:20:51Z\n"
     ]
    }
   ],
   "source": [
    "import datetime\n",
    "\n",
    "def formatDate(date):\n",
    "    return date.strftime(\"%Y-%m-%dT%H:%M:%SZ\")\n",
    "    \n",
    "def getDateRange(substractDays=2, addDays=-5):\n",
    "    now = datetime.datetime.now()\n",
    "    startDate = now - datetime.timedelta(days = 2)\n",
    "    endDate = now - datetime.timedelta(days = -5)\n",
    "    return formatDate(startDate), formatDate(endDate)\n",
    "\n",
    "startDate, endDate = getDateRange()\n",
    "print('startDate:\\t', startDate)\n",
    "print('endDate:\\t', endDate)"
   ]
  },
  {
   "cell_type": "code",
   "execution_count": 8,
   "metadata": {},
   "outputs": [],
   "source": [
    "import requests\n",
    "\n",
    "def sendMsg(message='Test'):\n",
    "    apiUrl = 'https://api.telegram.org/bot{}/sendMessage?chat_id={}&text={}'.format(botId, chatId, message)\n",
    "    requests.get(apiUrl)"
   ]
  },
  {
   "cell_type": "code",
   "execution_count": 9,
   "metadata": {},
   "outputs": [],
   "source": [
    "# sendMsg()"
   ]
  },
  {
   "cell_type": "code",
   "execution_count": 33,
   "metadata": {},
   "outputs": [
    {
     "name": "stdout",
     "output_type": "stream",
     "text": [
      "https://api.airfranceklm.com/opendata/1.0.0/search-context\n",
      "<h1>596 Service Not Found</h1>\n"
     ]
    }
   ],
   "source": [
    "import requests\n",
    "# url = 'https://api.airfranceklm.com/opendata/1.0.0/best-fare-offers/top-deals' \n",
    "# url = 'https://api.airfranceklm.com/opendata/flightoffer' \n",
    "url = 'https://api.airfranceklm.com/opendata/1.0.0/search-context' \n",
    "# url += '?flight=AF_8224_2022-10-31'\n",
    "# url += '&flightNumber=8224'\n",
    "# url += '&startRange='+startDate\n",
    "# url += '&endRange='+endDate\n",
    "print(url)\n",
    "headers={\n",
    "    'accept-language':'en-GB'\n",
    "    ,'Api-Key':apiKey\n",
    "    # ,'AFKL-TRAVEL-Host':'KL'\n",
    "}\n",
    "response = requests.request('GET', url, headers=headers)\n",
    "print(response.text)"
   ]
  },
  {
   "cell_type": "code",
   "execution_count": 19,
   "metadata": {},
   "outputs": [
    {
     "name": "stdout",
     "output_type": "stream",
     "text": [
      "https://api.airfranceklm.com/opendata/inspire/amenities?flight=AF_8224_2022-10-31\n",
      "{\"flights\":[{\"code\":\"AF_8224_2022-10-31\",\"aircraft\":{\"amenitiesNb\":6,\"amenities\":[\"MEALS\",\"SNACKS\",\"SEAT_STANDARD\",\"STANDARD_BUSINESS_SEAT\",\"POWER\",\"LAYOUT_3_3\"]},\"cabinClasses\":[{\"code\":\"ECONOMY\",\"amenitiesNb\":3,\"amenities\":[\"SNACKS\",\"SEAT_STANDARD\",\"LAYOUT_3_3\"]},{\"code\":\"BUSINESS\",\"amenitiesNb\":4,\"amenities\":[\"MEALS\",\"STANDARD_BUSINESS_SEAT\",\"POWER\",\"LAYOUT_3_3\"]}],\"flightInfo\":{\"segments\":[{\"origin\":\"CDG\",\"destination\":\"AMS\"}],\"operatingAirline\":\"KL\"}}],\"amenities\":[{\"code\":\"LAYOUT_3_3\",\"label\":\"3-3 layout\",\"imageUrl\":\"https://img.static-kl.com/images/media/AE304860-066B-4037-9769F81330850717\",\"description\":\"Seats are arranged in rows of 2 x 3 seats, separated by 1 aisle.\",\"category\":\"COMFORT\"},{\"code\":\"SEAT_STANDARD\",\"label\":\"Standard reclining seat\",\"imageUrl\":\"https://img.static-kl.com/images/media/A3430475-D28C-4E44-A55CA9A7DC9A1478\",\"description\":\"Standard reclining seat\",\"category\":\"COMFORT\"},{\"code\":\"POWER\",\"label\":\"Power outlets\",\"imageUrl\":\"https://img.static-kl.com/images/media/977B8270-DD0A-4F76-97FB97EC0982508C\",\"description\":\"Charge your devices during your flight with the power socket in your seat.\",\"category\":\"COMFORT\"},{\"code\":\"MEALS\",\"label\":\"Meals and refreshments\",\"imageUrl\":\"https://img.static-kl.com/images/media/1BD60352-47E3-406F-849EB3E0F8C69EF5\",\"description\":\"Enjoy our delicious 3-course meal, including a tasty starter, a hot meal and dessert.\",\"category\":\"EQUIPMENT\"},{\"code\":\"STANDARD_BUSINESS_SEAT\",\"label\":\"Standard reclining seat\",\"imageUrl\":\"https://img.static-kl.com/images/media/A3430475-D28C-4E44-A55CA9A7DC9A1478\",\"description\":\"In 3-seat rows we keep all middle seats free, so you always have a seat next to the window or the aisle. These seats offer extra legroom and recline.\",\"category\":\"COMFORT\"},{\"code\":\"SNACKS\",\"label\":\"Snack and refreshments\",\"imageUrl\":\"https://img.static-kl.com/images/media/017A2C6B-330C-4C48-B3143C91C084AA61\",\"description\":\"We'll serve you a nice snack, a fresh sandwich or a wrap and a varied selection of drinks for free.\",\"category\":\"EQUIPMENT\"}],\"categories\":[{\"code\":\"EQUIPMENT\",\"label\":\"In-flight amenities\"},{\"code\":\"COMFORT\",\"label\":\"Comfort\"}]}\n"
     ]
    }
   ],
   "source": [
    "import requests\n",
    "url = 'https://api.airfranceklm.com/opendata/inspire/amenities' \n",
    "url += '?flight=AF_8224_2022-10-31'\n",
    "# url += '&flightNumber=8224'\n",
    "# url += '&startRange='+startDate\n",
    "# url += '&endRange='+endDate\n",
    "print(url)\n",
    "headers={\n",
    "    'accept-language':'en-GB'\n",
    "    ,'Api-Key':apiKey\n",
    "    ,'AFKL-TRAVEL-Host':'KL'\n",
    "}\n",
    "response = requests.request('GET', url, headers=headers)\n",
    "print(response.text)"
   ]
  },
  {
   "cell_type": "code",
   "execution_count": 11,
   "metadata": {},
   "outputs": [
    {
     "name": "stdout",
     "output_type": "stream",
     "text": [
      "https://api.airfranceklm.com/opendata/flightstatus/?carrierCode=AF&flightNumber=8224&startRange=2022-10-28T12:20:51Z&endRange=2022-11-04T12:20:51Z\n",
      "{\"operationalFlights\":[{\"flightNumber\":1224,\"flightScheduleDate\":\"2022-10-29\",\"id\":\"20221029+KL+1224\",\"haul\":\"MEDIUM\",\"route\":[\"CDG\",\"AMS\"],\"airline\":{\"code\":\"KL\",\"name\":\"KLM ROYAL DUTCH AIRLINES\"},\"codeShareRelations\":[{\"marketingFlightNumber\":8224,\"code\":\"F\",\"type\":\"PASSENGER\",\"airline\":{\"code\":\"AF\",\"name\":\"AIR FRANCE\"}},{\"marketingFlightNumber\":7628,\"code\":\"F\",\"type\":\"PASSENGER\",\"airline\":{\"code\":\"CZ\",\"name\":\"CHINA SOUTHERN AIRLINES\"}},{\"marketingFlightNumber\":9429,\"code\":\"F\",\"type\":\"PASSENGER\",\"airline\":{\"code\":\"DL\",\"name\":\"DELTA AIR LINES INC.\"}},{\"marketingFlightNumber\":9241,\"code\":\"F\",\"type\":\"PASSENGER\",\"airline\":{\"code\":\"GA\",\"name\":\"GARUDA INDONESIA\"}},{\"marketingFlightNumber\":1224,\"code\":\"F\",\"type\":\"PASSENGER\",\"airline\":{\"code\":\"KQ\",\"name\":\"KENYA AIRWAYS\"}},{\"marketingFlightNumber\":9774,\"code\":\"F\",\"type\":\"PASSENGER\",\"airline\":{\"code\":\"MF\",\"name\":\"XIAMEN AIRLINES\"}},{\"marketingFlightNumber\":7592,\"code\":\"F\",\"type\":\"PASSENGER\",\"airline\":{\"code\":\"MK\",\"name\":\"AIR MAURITIUS LTD\"}},{\"marketingFlightNumber\":3152,\"code\":\"F\",\"type\":\"PASSENGER\",\"airline\":{\"code\":\"VN\",\"name\":\"VIETNAM AIRLINES JSC\"}}],\"flightRelations\":{\"previousFlightData\":{\"id\":\"20221029+KL+1223\",\"flightScheduleDate\":\"2022-10-29\",\"airlineCode\":\"KL\",\"flightNumber\":\"1223\"}},\"flightStatusPublic\":\"ARRIVED\",\"flightStatusPublicLangTransl\":\"Arrived\",\"flightLegs\":[{\"status\":\"S\",\"statusName\":\"Scheduled\",\"publishedStatus\":\"ARRIVED\",\"departureInformation\":{\"airport\":{\"code\":\"CDG\",\"name\":\"CHARLES DE GAULLE AIRPORT\",\"nameLangTranl\":\"Paris Charles de Gaulle Airport\",\"city\":{\"code\":\"PAR\",\"name\":\"PARIS\",\"nameLangTranl\":\"Paris\",\"country\":{\"areaCode\":\"E\",\"code\":\"FR\",\"name\":\"FRANCE\",\"nameLangTranl\":\"France\",\"euroCountry\":\"Y\",\"euCountry\":\"Y\"}},\"location\":{\"latitude\":49.0097,\"longitude\":2.5486},\"places\":{\"aerogareCode\":\"2\",\"gateNumber\":[\"F34\"],\"parkingPosition\":\"F32\",\"terminalCode\":\"2F\",\"boardingPier\":\"1\",\"boardingTerminal\":\"2F\",\"checkInZone\":[\"F05\",\"F06\"],\"boardingContactType\":\"C\",\"parkingPositionType\":\"C\",\"departureTerminal\":\"1\",\"parkingPositionCustomStatus\":\"D\",\"checkInAerogare\":\"2\"}},\"times\":{\"actual\":\"2022-10-29T08:53:00.000+02:00\",\"scheduled\":\"2022-10-29T08:40:00.000+02:00\",\"latestPublished\":\"2022-10-29T08:53:00.000+02:00\",\"actualTakeOffTime\":\"2022-10-29T09:07:00.000+02:00\"},\"boardingTimes\":{\"plannedBoardingTime\":\"2022-10-29T08:20:00.000+02:00\",\"gateCloseTime\":\"2022-10-29T08:25:00.000+02:00\"}},\"arrivalInformation\":{\"airport\":{\"code\":\"AMS\",\"name\":\"SCHIPHOL AIRPORT\",\"nameLangTranl\":\"Amsterdam Schiphol Airport\",\"city\":{\"code\":\"AMS\",\"name\":\"AMSTERDAM\",\"nameLangTranl\":\"Amsterdam\",\"country\":{\"areaCode\":\"N\",\"code\":\"NL\",\"name\":\"NETHERLANDS\",\"nameLangTranl\":\"Netherlands\",\"euroCountry\":\"Y\",\"euCountry\":\"Y\"}},\"location\":{\"latitude\":52.3083,\"longitude\":4.7681},\"places\":{\"gateNumber\":[\"D82\"],\"parkingPosition\":\"D54\",\"pierCode\":\"D\",\"baggageBelt\":[\"013\"],\"parkingPositionType\":\"C\",\"disembarkingContactType\":\"C\",\"arrivalHall\":[\"2\"],\"firstBagOnBeltTime\":\"2022-10-29T10:35:00.000+02:00\",\"lastBagOnBeltTime\":\"2022-10-29T10:37:00.000+02:00\"}},\"times\":{\"actual\":\"2022-10-29T10:10:00.000+02:00\",\"scheduled\":\"2022-10-29T10:00:00.000+02:00\",\"latestPublished\":\"2022-10-29T10:10:00.000+02:00\",\"estimated\":{\"value\":\"2022-10-29T10:10:00.000+02:00\"},\"actualTouchDownTime\":\"2022-10-29T10:00:00.000+02:00\"}},\"legStatusPublic\":\"ARRIVED\",\"legStatusPublicLangTransl\":\"Arrived\",\"passengerCustomsStatus\":\"SCHENGEN\",\"serviceType\":\"J\",\"serviceTypeName\":\"Normal Service\",\"restricted\":false,\"scheduledFlightDuration\":\"PT1H20M\",\"departureDateTimeDifference\":\"PT13M\",\"arrivalDateTimeDifference\":\"PT10M\",\"timeToArrival\":\"PT0S\",\"completionPercentage\":\"100\",\"timeZoneDifference\":\"+0000\",\"aircraft\":{\"registration\":\"PHBXM\",\"typeCode\":\"73H\",\"typeName\":\"BOEING 737-800 (WINGLETS) PASSENGER/BBJ2\",\"subFleetCodeId\":\"F\",\"ownerAirlineCode\":\"KL\",\"ownerAirlineName\":\"KLM ROYAL DUTCH AIRLINES\",\"physicalPaxConfiguration\":\"C036M150\",\"operationalConfiguration\":\"C012M168\",\"cockpitCrewEmployer\":\"KL\",\"cabinCrewEmployer\":\"KL\",\"wifiEnabled\":\"N\",\"satelliteConnectivityOnBoard\":\"N\"},\"irregularity\":{\"cancelled\":\"N\",\"delayReasonCodePublic\":[\"FSR15\"],\"delayReasonPublicLangTransl\":[\"This flight was delayed due to the late arrival of the aircraft.\"],\"delayDurationPublic\":\"PT13M\",\"delayInformation\":[{\"delayReasonCodePublic\":\"FSR15\",\"delayReasonPublicShort\":\"Delayed incoming aircraft\",\"delayReasonPublicLong\":\"This flight was delayed due to the late arrival of the aircraft.\"}]}}]},{\"flightNumber\":1224,\"flightScheduleDate\":\"2022-10-30\",\"id\":\"20221030+KL+1224\",\"haul\":\"MEDIUM\",\"route\":[\"CDG\",\"AMS\"],\"airline\":{\"code\":\"KL\",\"name\":\"KLM ROYAL DUTCH AIRLINES\"},\"codeShareRelations\":[{\"marketingFlightNumber\":8224,\"code\":\"F\",\"type\":\"PASSENGER\",\"airline\":{\"code\":\"AF\",\"name\":\"AIR FRANCE\"}},{\"marketingFlightNumber\":7628,\"code\":\"F\",\"type\":\"PASSENGER\",\"airline\":{\"code\":\"CZ\",\"name\":\"CHINA SOUTHERN AIRLINES\"}},{\"marketingFlightNumber\":9429,\"code\":\"F\",\"type\":\"PASSENGER\",\"airline\":{\"code\":\"DL\",\"name\":\"DELTA AIR LINES INC.\"}},{\"marketingFlightNumber\":9241,\"code\":\"F\",\"type\":\"PASSENGER\",\"airline\":{\"code\":\"GA\",\"name\":\"GARUDA INDONESIA\"}},{\"marketingFlightNumber\":1224,\"code\":\"F\",\"type\":\"PASSENGER\",\"airline\":{\"code\":\"KQ\",\"name\":\"KENYA AIRWAYS\"}},{\"marketingFlightNumber\":9774,\"code\":\"F\",\"type\":\"PASSENGER\",\"airline\":{\"code\":\"MF\",\"name\":\"XIAMEN AIRLINES\"}},{\"marketingFlightNumber\":7592,\"code\":\"F\",\"type\":\"PASSENGER\",\"airline\":{\"code\":\"MK\",\"name\":\"AIR MAURITIUS LTD\"}},{\"marketingFlightNumber\":3152,\"code\":\"F\",\"type\":\"PASSENGER\",\"airline\":{\"code\":\"VN\",\"name\":\"VIETNAM AIRLINES JSC\"}}],\"flightRelations\":{\"previousFlightData\":{\"id\":\"20221030+KL+1223\",\"flightScheduleDate\":\"2022-10-30\",\"airlineCode\":\"KL\",\"flightNumber\":\"1223\"}},\"flightStatusPublic\":\"ARRIVED\",\"flightStatusPublicLangTransl\":\"Arrived\",\"flightLegs\":[{\"status\":\"S\",\"statusName\":\"Scheduled\",\"publishedStatus\":\"ARRIVED\",\"departureInformation\":{\"airport\":{\"code\":\"CDG\",\"name\":\"CHARLES DE GAULLE AIRPORT\",\"nameLangTranl\":\"Paris Charles de Gaulle Airport\",\"city\":{\"code\":\"PAR\",\"name\":\"PARIS\",\"nameLangTranl\":\"Paris\",\"country\":{\"areaCode\":\"E\",\"code\":\"FR\",\"name\":\"FRANCE\",\"nameLangTranl\":\"France\",\"euroCountry\":\"Y\",\"euCountry\":\"Y\"}},\"location\":{\"latitude\":49.0097,\"longitude\":2.5486},\"places\":{\"aerogareCode\":\"2\",\"gateNumber\":[\"F33\"],\"parkingPosition\":\"F30\",\"terminalCode\":\"2F\",\"boardingPier\":\"1\",\"boardingTerminal\":\"2F\",\"checkInZone\":[\"F05\",\"F06\"],\"boardingContactType\":\"C\",\"parkingPositionType\":\"C\",\"departureTerminal\":\"1\",\"parkingPositionCustomStatus\":\"D\",\"checkInAerogare\":\"2\"}},\"times\":{\"actual\":\"2022-10-30T09:00:00.000+01:00\",\"scheduled\":\"2022-10-30T09:05:00.000+01:00\",\"latestPublished\":\"2022-10-30T09:00:00.000+01:00\",\"actualTakeOffTime\":\"2022-10-30T09:11:00.000+01:00\"},\"boardingTimes\":{\"plannedBoardingTime\":\"2022-10-30T08:29:00.000+01:00\",\"gateCloseTime\":\"2022-10-30T08:50:00.000+01:00\"}},\"arrivalInformation\":{\"airport\":{\"code\":\"AMS\",\"name\":\"SCHIPHOL AIRPORT\",\"nameLangTranl\":\"Amsterdam Schiphol Airport\",\"city\":{\"code\":\"AMS\",\"name\":\"AMSTERDAM\",\"nameLangTranl\":\"Amsterdam\",\"country\":{\"areaCode\":\"N\",\"code\":\"NL\",\"name\":\"NETHERLANDS\",\"nameLangTranl\":\"Netherlands\",\"euroCountry\":\"Y\",\"euCountry\":\"Y\"}},\"location\":{\"latitude\":52.3083,\"longitude\":4.7681},\"places\":{\"gateNumber\":[\"C13\"],\"parkingPosition\":\"C13\",\"pierCode\":\"C\",\"baggageBelt\":[\"009\"],\"parkingPositionType\":\"C\",\"disembarkingContactType\":\"C\",\"arrivalHall\":[\"2\"],\"firstBagOnBeltTime\":\"2022-10-30T10:30:00.000+01:00\",\"lastBagOnBeltTime\":\"2022-10-30T10:34:00.000+01:00\"}},\"times\":{\"actual\":\"2022-10-30T10:04:00.000+01:00\",\"scheduled\":\"2022-10-30T10:30:00.000+01:00\",\"latestPublished\":\"2022-10-30T10:04:00.000+01:00\",\"estimated\":{\"value\":\"2022-10-30T10:04:00.000+01:00\"},\"actualTouchDownTime\":\"2022-10-30T09:54:00.000+01:00\"}},\"legStatusPublic\":\"ARRIVED\",\"legStatusPublicLangTransl\":\"Arrived\",\"passengerCustomsStatus\":\"SCHENGEN\",\"serviceType\":\"J\",\"serviceTypeName\":\"Normal Service\",\"restricted\":false,\"scheduledFlightDuration\":\"PT1H25M\",\"departureDateTimeDifference\":\"PT-5M\",\"arrivalDateTimeDifference\":\"PT-26M\",\"timeToArrival\":\"PT0S\",\"completionPercentage\":\"100\",\"timeZoneDifference\":\"+0000\",\"aircraft\":{\"registration\":\"PHBCL\",\"typeCode\":\"73H\",\"typeName\":\"BOEING 737-800 (WINGLETS) PASSENGER/BBJ2\",\"subFleetCodeId\":\"G\",\"ownerAirlineCode\":\"KL\",\"ownerAirlineName\":\"KLM ROYAL DUTCH AIRLINES\",\"physicalPaxConfiguration\":\"C036M150\",\"operationalConfiguration\":\"C008M174\",\"cockpitCrewEmployer\":\"KL\",\"cabinCrewEmployer\":\"KL\",\"wifiEnabled\":\"Y\",\"satelliteConnectivityOnBoard\":\"Y\"},\"irregularity\":{\"cancelled\":\"N\"}}]},{\"flightNumber\":1224,\"flightScheduleDate\":\"2022-10-31\",\"id\":\"20221031+KL+1224\",\"haul\":\"MEDIUM\",\"route\":[\"CDG\",\"AMS\"],\"airline\":{\"code\":\"KL\",\"name\":\"KLM ROYAL DUTCH AIRLINES\"},\"codeShareRelations\":[{\"marketingFlightNumber\":8224,\"flightScheduleDate\":\"2022-10-31\",\"code\":\"F\",\"type\":\"PASSENGER\",\"airline\":{\"code\":\"AF\",\"name\":\"AIR FRANCE\"}},{\"marketingFlightNumber\":7628,\"flightScheduleDate\":\"2022-10-31\",\"code\":\"F\",\"type\":\"PASSENGER\",\"airline\":{\"code\":\"CZ\",\"name\":\"CHINA SOUTHERN AIRLINES\"}},{\"marketingFlightNumber\":9429,\"flightScheduleDate\":\"2022-10-31\",\"code\":\"F\",\"type\":\"PASSENGER\",\"airline\":{\"code\":\"DL\",\"name\":\"DELTA AIR LINES INC.\"}},{\"marketingFlightNumber\":9241,\"flightScheduleDate\":\"2022-10-31\",\"code\":\"F\",\"type\":\"PASSENGER\",\"airline\":{\"code\":\"GA\",\"name\":\"GARUDA INDONESIA\"}},{\"marketingFlightNumber\":1224,\"flightScheduleDate\":\"2022-10-31\",\"code\":\"F\",\"type\":\"PASSENGER\",\"airline\":{\"code\":\"KQ\",\"name\":\"KENYA AIRWAYS\"}},{\"marketingFlightNumber\":9774,\"flightScheduleDate\":\"2022-10-31\",\"code\":\"F\",\"type\":\"PASSENGER\",\"airline\":{\"code\":\"MF\",\"name\":\"XIAMEN AIRLINES\"}},{\"marketingFlightNumber\":7592,\"flightScheduleDate\":\"2022-10-31\",\"code\":\"F\",\"type\":\"PASSENGER\",\"airline\":{\"code\":\"MK\",\"name\":\"AIR MAURITIUS LTD\"}},{\"marketingFlightNumber\":3152,\"flightScheduleDate\":\"2022-10-31\",\"code\":\"F\",\"type\":\"PASSENGER\",\"airline\":{\"code\":\"VN\",\"name\":\"VIETNAM AIRLINES JSC\"}}],\"flightRelations\":{\"previousFlightData\":{\"id\":\"20221031+KL+1223\",\"flightScheduleDate\":\"2022-10-31\",\"airlineCode\":\"KL\",\"flightNumber\":\"1223\"}},\"flightStatusPublic\":\"ON_TIME\",\"flightStatusPublicLangTransl\":\"On time\",\"flightLegs\":[{\"status\":\"S\",\"statusName\":\"Scheduled\",\"publishedStatus\":\"ONTIME\",\"departureInformation\":{\"airport\":{\"code\":\"CDG\",\"name\":\"CHARLES DE GAULLE AIRPORT\",\"nameLangTranl\":\"Paris Charles de Gaulle Airport\",\"city\":{\"code\":\"PAR\",\"name\":\"PARIS\",\"nameLangTranl\":\"Paris\",\"country\":{\"areaCode\":\"E\",\"code\":\"FR\",\"name\":\"FRANCE\",\"nameLangTranl\":\"France\",\"euroCountry\":\"Y\",\"euCountry\":\"Y\"}},\"location\":{\"latitude\":49.0097,\"longitude\":2.5486},\"places\":{\"aerogareCode\":\"2\",\"terminalCode\":\"2F\",\"boardingTerminal\":\"2F\",\"checkInZone\":[\"F05\",\"F06\"],\"checkInAerogare\":\"2\"}},\"times\":{\"scheduled\":\"2022-10-31T09:05:00.000+01:00\",\"latestPublished\":\"2022-10-31T09:05:00.000+01:00\"},\"boardingTimes\":{\"plannedBoardingTime\":\"2022-10-31T08:35:00.000+01:00\",\"gateCloseTime\":\"2022-10-31T08:50:00.000+01:00\"}},\"arrivalInformation\":{\"airport\":{\"code\":\"AMS\",\"name\":\"SCHIPHOL AIRPORT\",\"nameLangTranl\":\"Amsterdam Schiphol Airport\",\"city\":{\"code\":\"AMS\",\"name\":\"AMSTERDAM\",\"nameLangTranl\":\"Amsterdam\",\"country\":{\"areaCode\":\"N\",\"code\":\"NL\",\"name\":\"NETHERLANDS\",\"nameLangTranl\":\"Netherlands\",\"euroCountry\":\"Y\",\"euCountry\":\"Y\"}},\"location\":{\"latitude\":52.3083,\"longitude\":4.7681},\"places\":{}},\"times\":{\"scheduled\":\"2022-10-31T10:30:00.000+01:00\",\"latestPublished\":\"2022-10-31T10:30:00.000+01:00\",\"estimated\":{\"value\":\"2022-10-31T10:30:00.000+01:00\"}}},\"legStatusPublic\":\"ON_TIME\",\"legStatusPublicLangTransl\":\"On time\",\"passengerCustomsStatus\":\"SCHENGEN\",\"serviceType\":\"J\",\"serviceTypeName\":\"Normal Service\",\"restricted\":false,\"scheduledFlightDuration\":\"PT1H25M\",\"completionPercentage\":\"0\",\"timeZoneDifference\":\"+0000\",\"aircraft\":{\"registration\":\"PHBXO\",\"typeCode\":\"73J\",\"typeName\":\"BOEING 737-900 (WINGLETS) PASSENGER/BBJ3\",\"subFleetCodeId\":\"C\",\"ownerAirlineCode\":\"KL\",\"ownerAirlineName\":\"KLM ROYAL DUTCH AIRLINES\",\"physicalPaxConfiguration\":\"C056M132\",\"operationalConfiguration\":\"C012M174\",\"cockpitCrewEmployer\":\"KL\",\"cabinCrewEmployer\":\"KL\",\"wifiEnabled\":\"N\",\"satelliteConnectivityOnBoard\":\"N\"},\"irregularity\":{\"cancelled\":\"N\"},\"otherFlightLegStatuses\":{\"boardingStatus\":\"Not Open\"}}]},{\"flightNumber\":1224,\"flightScheduleDate\":\"2022-11-01\",\"id\":\"20221101+KL+1224\",\"haul\":\"MEDIUM\",\"route\":[\"CDG\",\"AMS\"],\"airline\":{\"code\":\"KL\",\"name\":\"KLM ROYAL DUTCH AIRLINES\"},\"codeShareRelations\":[{\"marketingFlightNumber\":8224,\"code\":\"F\",\"type\":\"PASSENGER\",\"airline\":{\"code\":\"AF\",\"name\":\"AIR FRANCE\"}},{\"marketingFlightNumber\":7628,\"code\":\"F\",\"type\":\"PASSENGER\",\"airline\":{\"code\":\"CZ\",\"name\":\"CHINA SOUTHERN AIRLINES\"}},{\"marketingFlightNumber\":9429,\"code\":\"F\",\"type\":\"PASSENGER\",\"airline\":{\"code\":\"DL\",\"name\":\"DELTA AIR LINES INC.\"}},{\"marketingFlightNumber\":9241,\"code\":\"F\",\"type\":\"PASSENGER\",\"airline\":{\"code\":\"GA\",\"name\":\"GARUDA INDONESIA\"}},{\"marketingFlightNumber\":1224,\"code\":\"F\",\"type\":\"PASSENGER\",\"airline\":{\"code\":\"KQ\",\"name\":\"KENYA AIRWAYS\"}},{\"marketingFlightNumber\":9774,\"code\":\"F\",\"type\":\"PASSENGER\",\"airline\":{\"code\":\"MF\",\"name\":\"XIAMEN AIRLINES\"}},{\"marketingFlightNumber\":7592,\"code\":\"F\",\"type\":\"PASSENGER\",\"airline\":{\"code\":\"MK\",\"name\":\"AIR MAURITIUS LTD\"}},{\"marketingFlightNumber\":3152,\"code\":\"F\",\"type\":\"PASSENGER\",\"airline\":{\"code\":\"VN\",\"name\":\"VIETNAM AIRLINES JSC\"}}],\"flightRelations\":{\"previousFlightData\":{\"id\":\"20221101+KL+1223\",\"flightScheduleDate\":\"2022-11-01\",\"airlineCode\":\"KL\",\"flightNumber\":\"1223\"}},\"flightStatusPublic\":\"SCHEDULED\",\"flightStatusPublicLangTransl\":\"Scheduled\",\"flightLegs\":[{\"status\":\"S\",\"statusName\":\"Scheduled\",\"publishedStatus\":\"ONTIME\",\"departureInformation\":{\"airport\":{\"code\":\"CDG\",\"name\":\"CHARLES DE GAULLE AIRPORT\",\"nameLangTranl\":\"Paris Charles de Gaulle Airport\",\"city\":{\"code\":\"PAR\",\"name\":\"PARIS\",\"nameLangTranl\":\"Paris\",\"country\":{\"areaCode\":\"E\",\"code\":\"FR\",\"name\":\"FRANCE\",\"nameLangTranl\":\"France\",\"euroCountry\":\"Y\",\"euCountry\":\"Y\"}},\"location\":{\"latitude\":49.0097,\"longitude\":2.5486},\"places\":{\"aerogareCode\":\"2\",\"terminalCode\":\"2F\",\"boardingTerminal\":\"2F\",\"checkInZone\":[\"\"],\"checkInAerogare\":\"2\"}},\"times\":{\"scheduled\":\"2022-11-01T09:05:00.000+01:00\",\"latestPublished\":\"2022-11-01T09:05:00.000+01:00\"},\"boardingTimes\":{\"plannedBoardingTime\":\"2022-11-01T08:35:00.000+01:00\",\"gateCloseTime\":\"2022-11-01T08:50:00.000+01:00\"}},\"arrivalInformation\":{\"airport\":{\"code\":\"AMS\",\"name\":\"SCHIPHOL AIRPORT\",\"nameLangTranl\":\"Amsterdam Schiphol Airport\",\"city\":{\"code\":\"AMS\",\"name\":\"AMSTERDAM\",\"nameLangTranl\":\"Amsterdam\",\"country\":{\"areaCode\":\"N\",\"code\":\"NL\",\"name\":\"NETHERLANDS\",\"nameLangTranl\":\"Netherlands\",\"euroCountry\":\"Y\",\"euCountry\":\"Y\"}},\"location\":{\"latitude\":52.3083,\"longitude\":4.7681},\"places\":{}},\"times\":{\"scheduled\":\"2022-11-01T10:30:00.000+01:00\",\"latestPublished\":\"2022-11-01T10:30:00.000+01:00\",\"estimated\":{\"value\":\"2022-11-01T10:30:00.000+01:00\"}}},\"legStatusPublic\":\"SCHEDULED\",\"legStatusPublicLangTransl\":\"Scheduled\",\"passengerCustomsStatus\":\"SCHENGEN\",\"serviceType\":\"J\",\"serviceTypeName\":\"Normal Service\",\"restricted\":false,\"scheduledFlightDuration\":\"PT1H25M\",\"completionPercentage\":\"0\",\"timeZoneDifference\":\"+0000\",\"aircraft\":{\"registration\":\"PHBXS\",\"typeCode\":\"73J\",\"typeName\":\"BOEING 737-900 (WINGLETS) PASSENGER/BBJ3\",\"subFleetCodeId\":\"C\",\"ownerAirlineCode\":\"KL\",\"ownerAirlineName\":\"KLM ROYAL DUTCH AIRLINES\",\"physicalPaxConfiguration\":\"C056M132\",\"operationalConfiguration\":\"C012M174\",\"cockpitCrewEmployer\":\"KL\",\"cabinCrewEmployer\":\"KL\",\"wifiEnabled\":\"N\",\"satelliteConnectivityOnBoard\":\"N\"},\"irregularity\":{\"cancelled\":\"N\"},\"otherFlightLegStatuses\":{\"boardingStatus\":\"Not Open\"}}]},{\"flightNumber\":1224,\"flightScheduleDate\":\"2022-11-02\",\"id\":\"20221102+KL+1224\",\"haul\":\"MEDIUM\",\"route\":[\"CDG\",\"AMS\"],\"airline\":{\"code\":\"KL\",\"name\":\"KLM ROYAL DUTCH AIRLINES\"},\"codeShareRelations\":[{\"marketingFlightNumber\":8224,\"flightScheduleDate\":\"2022-11-02\",\"code\":\"F\",\"type\":\"PASSENGER\",\"airline\":{\"code\":\"AF\",\"name\":\"AIR FRANCE\"}},{\"marketingFlightNumber\":7628,\"flightScheduleDate\":\"2022-11-02\",\"code\":\"F\",\"type\":\"PASSENGER\",\"airline\":{\"code\":\"CZ\",\"name\":\"CHINA SOUTHERN AIRLINES\"}},{\"marketingFlightNumber\":9429,\"flightScheduleDate\":\"2022-11-02\",\"code\":\"F\",\"type\":\"PASSENGER\",\"airline\":{\"code\":\"DL\",\"name\":\"DELTA AIR LINES INC.\"}},{\"marketingFlightNumber\":9241,\"flightScheduleDate\":\"2022-11-02\",\"code\":\"F\",\"type\":\"PASSENGER\",\"airline\":{\"code\":\"GA\",\"name\":\"GARUDA INDONESIA\"}},{\"marketingFlightNumber\":1224,\"flightScheduleDate\":\"2022-11-02\",\"code\":\"F\",\"type\":\"PASSENGER\",\"airline\":{\"code\":\"KQ\",\"name\":\"KENYA AIRWAYS\"}},{\"marketingFlightNumber\":9774,\"flightScheduleDate\":\"2022-11-02\",\"code\":\"F\",\"type\":\"PASSENGER\",\"airline\":{\"code\":\"MF\",\"name\":\"XIAMEN AIRLINES\"}},{\"marketingFlightNumber\":7592,\"flightScheduleDate\":\"2022-11-02\",\"code\":\"F\",\"type\":\"PASSENGER\",\"airline\":{\"code\":\"MK\",\"name\":\"AIR MAURITIUS LTD\"}},{\"marketingFlightNumber\":3152,\"flightScheduleDate\":\"2022-11-02\",\"code\":\"F\",\"type\":\"PASSENGER\",\"airline\":{\"code\":\"VN\",\"name\":\"VIETNAM AIRLINES JSC\"}}],\"flightRelations\":{\"previousFlightData\":{\"id\":\"20221102+KL+1223\",\"flightScheduleDate\":\"2022-11-02\",\"airlineCode\":\"KL\",\"flightNumber\":\"1223\"}},\"flightStatusPublic\":\"SCHEDULED\",\"flightStatusPublicLangTransl\":\"Scheduled\",\"flightLegs\":[{\"status\":\"S\",\"statusName\":\"Scheduled\",\"publishedStatus\":\"ONTIME\",\"departureInformation\":{\"airport\":{\"code\":\"CDG\",\"name\":\"CHARLES DE GAULLE AIRPORT\",\"nameLangTranl\":\"Paris Charles de Gaulle Airport\",\"city\":{\"code\":\"PAR\",\"name\":\"PARIS\",\"nameLangTranl\":\"Paris\",\"country\":{\"areaCode\":\"E\",\"code\":\"FR\",\"name\":\"FRANCE\",\"nameLangTranl\":\"France\",\"euroCountry\":\"Y\",\"euCountry\":\"Y\"}},\"location\":{\"latitude\":49.0097,\"longitude\":2.5486},\"places\":{\"aerogareCode\":\"2\",\"terminalCode\":\"2F\",\"boardingTerminal\":\"2F\",\"checkInZone\":[\"\"],\"checkInAerogare\":\"2\"}},\"times\":{\"scheduled\":\"2022-11-02T09:05:00.000+01:00\",\"latestPublished\":\"2022-11-02T09:05:00.000+01:00\"},\"boardingTimes\":{\"plannedBoardingTime\":\"2022-11-02T08:35:00.000+01:00\",\"gateCloseTime\":\"2022-11-02T08:50:00.000+01:00\"}},\"arrivalInformation\":{\"airport\":{\"code\":\"AMS\",\"name\":\"SCHIPHOL AIRPORT\",\"nameLangTranl\":\"Amsterdam Schiphol Airport\",\"city\":{\"code\":\"AMS\",\"name\":\"AMSTERDAM\",\"nameLangTranl\":\"Amsterdam\",\"country\":{\"areaCode\":\"N\",\"code\":\"NL\",\"name\":\"NETHERLANDS\",\"nameLangTranl\":\"Netherlands\",\"euroCountry\":\"Y\",\"euCountry\":\"Y\"}},\"location\":{\"latitude\":52.3083,\"longitude\":4.7681},\"places\":{}},\"times\":{\"scheduled\":\"2022-11-02T10:30:00.000+01:00\",\"latestPublished\":\"2022-11-02T10:30:00.000+01:00\",\"estimated\":{\"value\":\"2022-11-02T10:30:00.000+01:00\"}}},\"legStatusPublic\":\"SCHEDULED\",\"legStatusPublicLangTransl\":\"Scheduled\",\"passengerCustomsStatus\":\"SCHENGEN\",\"serviceType\":\"J\",\"serviceTypeName\":\"Normal Service\",\"restricted\":false,\"scheduledFlightDuration\":\"PT1H25M\",\"completionPercentage\":\"0\",\"timeZoneDifference\":\"+0000\",\"aircraft\":{\"typeCode\":\"73J\",\"typeName\":\"BOEING 737-900 (WINGLETS) PASSENGER/BBJ3\",\"subFleetCodeId\":\"C\",\"ownerAirlineCode\":\"KL\",\"ownerAirlineName\":\"KLM ROYAL DUTCH AIRLINES\",\"physicalPaxConfiguration\":\"C056M132\",\"operationalConfiguration\":\"C016M168\",\"cockpitCrewEmployer\":\"KL\",\"cabinCrewEmployer\":\"KL\"},\"irregularity\":{\"cancelled\":\"N\"},\"otherFlightLegStatuses\":{\"acceptanceStatus\":\"Not Open\",\"boardingStatus\":\"Not Open\"}}]},{\"flightNumber\":1224,\"flightScheduleDate\":\"2022-11-03\",\"id\":\"20221103+KL+1224\",\"haul\":\"MEDIUM\",\"route\":[\"CDG\",\"AMS\"],\"airline\":{\"code\":\"KL\",\"name\":\"KLM ROYAL DUTCH AIRLINES\"},\"codeShareRelations\":[{\"marketingFlightNumber\":8224,\"flightScheduleDate\":\"2022-11-03\",\"code\":\"F\",\"type\":\"PASSENGER\",\"airline\":{\"code\":\"AF\",\"name\":\"AIR FRANCE\"}},{\"marketingFlightNumber\":7628,\"flightScheduleDate\":\"2022-11-03\",\"code\":\"F\",\"type\":\"PASSENGER\",\"airline\":{\"code\":\"CZ\",\"name\":\"CHINA SOUTHERN AIRLINES\"}},{\"marketingFlightNumber\":9429,\"flightScheduleDate\":\"2022-11-03\",\"code\":\"F\",\"type\":\"PASSENGER\",\"airline\":{\"code\":\"DL\",\"name\":\"DELTA AIR LINES INC.\"}},{\"marketingFlightNumber\":9241,\"flightScheduleDate\":\"2022-11-03\",\"code\":\"F\",\"type\":\"PASSENGER\",\"airline\":{\"code\":\"GA\",\"name\":\"GARUDA INDONESIA\"}},{\"marketingFlightNumber\":1224,\"flightScheduleDate\":\"2022-11-03\",\"code\":\"F\",\"type\":\"PASSENGER\",\"airline\":{\"code\":\"KQ\",\"name\":\"KENYA AIRWAYS\"}},{\"marketingFlightNumber\":9774,\"flightScheduleDate\":\"2022-11-03\",\"code\":\"F\",\"type\":\"PASSENGER\",\"airline\":{\"code\":\"MF\",\"name\":\"XIAMEN AIRLINES\"}},{\"marketingFlightNumber\":7592,\"flightScheduleDate\":\"2022-11-03\",\"code\":\"F\",\"type\":\"PASSENGER\",\"airline\":{\"code\":\"MK\",\"name\":\"AIR MAURITIUS LTD\"}},{\"marketingFlightNumber\":3152,\"flightScheduleDate\":\"2022-11-03\",\"code\":\"F\",\"type\":\"PASSENGER\",\"airline\":{\"code\":\"VN\",\"name\":\"VIETNAM AIRLINES JSC\"}}],\"flightRelations\":{\"previousFlightData\":{\"id\":\"20221103+KL+1223\",\"flightScheduleDate\":\"2022-11-03\",\"airlineCode\":\"KL\",\"flightNumber\":\"1223\"}},\"flightStatusPublic\":\"SCHEDULED\",\"flightStatusPublicLangTransl\":\"Scheduled\",\"flightLegs\":[{\"status\":\"S\",\"statusName\":\"Scheduled\",\"publishedStatus\":\"ONTIME\",\"departureInformation\":{\"airport\":{\"code\":\"CDG\",\"name\":\"CHARLES DE GAULLE AIRPORT\",\"nameLangTranl\":\"Paris Charles de Gaulle Airport\",\"city\":{\"code\":\"PAR\",\"name\":\"PARIS\",\"nameLangTranl\":\"Paris\",\"country\":{\"areaCode\":\"E\",\"code\":\"FR\",\"name\":\"FRANCE\",\"nameLangTranl\":\"France\",\"euroCountry\":\"Y\",\"euCountry\":\"Y\"}},\"location\":{\"latitude\":49.0097,\"longitude\":2.5486},\"places\":{\"aerogareCode\":\"2\",\"terminalCode\":\"2F\",\"boardingTerminal\":\"2F\",\"checkInZone\":[\"\"],\"checkInAerogare\":\"2\"}},\"times\":{\"scheduled\":\"2022-11-03T09:05:00.000+01:00\",\"latestPublished\":\"2022-11-03T09:05:00.000+01:00\"}},\"arrivalInformation\":{\"airport\":{\"code\":\"AMS\",\"name\":\"SCHIPHOL AIRPORT\",\"nameLangTranl\":\"Amsterdam Schiphol Airport\",\"city\":{\"code\":\"AMS\",\"name\":\"AMSTERDAM\",\"nameLangTranl\":\"Amsterdam\",\"country\":{\"areaCode\":\"N\",\"code\":\"NL\",\"name\":\"NETHERLANDS\",\"nameLangTranl\":\"Netherlands\",\"euroCountry\":\"Y\",\"euCountry\":\"Y\"}},\"location\":{\"latitude\":52.3083,\"longitude\":4.7681},\"places\":{}},\"times\":{\"scheduled\":\"2022-11-03T10:30:00.000+01:00\",\"latestPublished\":\"2022-11-03T10:30:00.000+01:00\",\"estimated\":{\"value\":\"2022-11-03T10:30:00.000+01:00\"}}},\"legStatusPublic\":\"SCHEDULED\",\"legStatusPublicLangTransl\":\"Scheduled\",\"passengerCustomsStatus\":\"SCHENGEN\",\"serviceType\":\"J\",\"serviceTypeName\":\"Normal Service\",\"restricted\":false,\"scheduledFlightDuration\":\"PT1H25M\",\"completionPercentage\":\"0\",\"timeZoneDifference\":\"+0000\",\"aircraft\":{\"typeCode\":\"73J\",\"typeName\":\"BOEING 737-900 (WINGLETS) PASSENGER/BBJ3\",\"subFleetCodeId\":\"C\",\"ownerAirlineCode\":\"KL\",\"ownerAirlineName\":\"KLM ROYAL DUTCH AIRLINES\",\"physicalPaxConfiguration\":\"C056M132\",\"operationalConfiguration\":\"C028M150\",\"cockpitCrewEmployer\":\"KL\",\"cabinCrewEmployer\":\"KL\"},\"irregularity\":{\"cancelled\":\"N\"}}]},{\"flightNumber\":1224,\"flightScheduleDate\":\"2022-11-04\",\"id\":\"20221104+KL+1224\",\"haul\":\"MEDIUM\",\"route\":[\"CDG\",\"AMS\"],\"airline\":{\"code\":\"KL\",\"name\":\"KLM ROYAL DUTCH AIRLINES\"},\"codeShareRelations\":[{\"marketingFlightNumber\":8224,\"flightScheduleDate\":\"2022-11-04\",\"code\":\"F\",\"type\":\"PASSENGER\",\"airline\":{\"code\":\"AF\",\"name\":\"AIR FRANCE\"}},{\"marketingFlightNumber\":7628,\"flightScheduleDate\":\"2022-11-04\",\"code\":\"F\",\"type\":\"PASSENGER\",\"airline\":{\"code\":\"CZ\",\"name\":\"CHINA SOUTHERN AIRLINES\"}},{\"marketingFlightNumber\":9429,\"flightScheduleDate\":\"2022-11-04\",\"code\":\"F\",\"type\":\"PASSENGER\",\"airline\":{\"code\":\"DL\",\"name\":\"DELTA AIR LINES INC.\"}},{\"marketingFlightNumber\":9241,\"flightScheduleDate\":\"2022-11-04\",\"code\":\"F\",\"type\":\"PASSENGER\",\"airline\":{\"code\":\"GA\",\"name\":\"GARUDA INDONESIA\"}},{\"marketingFlightNumber\":1224,\"flightScheduleDate\":\"2022-11-04\",\"code\":\"F\",\"type\":\"PASSENGER\",\"airline\":{\"code\":\"KQ\",\"name\":\"KENYA AIRWAYS\"}},{\"marketingFlightNumber\":9774,\"flightScheduleDate\":\"2022-11-04\",\"code\":\"F\",\"type\":\"PASSENGER\",\"airline\":{\"code\":\"MF\",\"name\":\"XIAMEN AIRLINES\"}},{\"marketingFlightNumber\":7592,\"flightScheduleDate\":\"2022-11-04\",\"code\":\"F\",\"type\":\"PASSENGER\",\"airline\":{\"code\":\"MK\",\"name\":\"AIR MAURITIUS LTD\"}},{\"marketingFlightNumber\":3152,\"flightScheduleDate\":\"2022-11-04\",\"code\":\"F\",\"type\":\"PASSENGER\",\"airline\":{\"code\":\"VN\",\"name\":\"VIETNAM AIRLINES JSC\"}}],\"flightRelations\":{\"previousFlightData\":{\"id\":\"20221104+KL+1223\",\"flightScheduleDate\":\"2022-11-04\",\"airlineCode\":\"KL\",\"flightNumber\":\"1223\"}},\"flightStatusPublic\":\"SCHEDULED\",\"flightStatusPublicLangTransl\":\"Scheduled\",\"flightLegs\":[{\"status\":\"S\",\"statusName\":\"Scheduled\",\"publishedStatus\":\"ONTIME\",\"departureInformation\":{\"airport\":{\"code\":\"CDG\",\"name\":\"CHARLES DE GAULLE AIRPORT\",\"nameLangTranl\":\"Paris Charles de Gaulle Airport\",\"city\":{\"code\":\"PAR\",\"name\":\"PARIS\",\"nameLangTranl\":\"Paris\",\"country\":{\"areaCode\":\"E\",\"code\":\"FR\",\"name\":\"FRANCE\",\"nameLangTranl\":\"France\",\"euroCountry\":\"Y\",\"euCountry\":\"Y\"}},\"location\":{\"latitude\":49.0097,\"longitude\":2.5486},\"places\":{\"aerogareCode\":\"2\",\"terminalCode\":\"2F\",\"boardingTerminal\":\"2F\",\"checkInZone\":[\"\"],\"checkInAerogare\":\"2\"}},\"times\":{\"scheduled\":\"2022-11-04T09:05:00.000+01:00\",\"latestPublished\":\"2022-11-04T09:05:00.000+01:00\"}},\"arrivalInformation\":{\"airport\":{\"code\":\"AMS\",\"name\":\"SCHIPHOL AIRPORT\",\"nameLangTranl\":\"Amsterdam Schiphol Airport\",\"city\":{\"code\":\"AMS\",\"name\":\"AMSTERDAM\",\"nameLangTranl\":\"Amsterdam\",\"country\":{\"areaCode\":\"N\",\"code\":\"NL\",\"name\":\"NETHERLANDS\",\"nameLangTranl\":\"Netherlands\",\"euroCountry\":\"Y\",\"euCountry\":\"Y\"}},\"location\":{\"latitude\":52.3083,\"longitude\":4.7681},\"places\":{}},\"times\":{\"scheduled\":\"2022-11-04T10:30:00.000+01:00\",\"latestPublished\":\"2022-11-04T10:30:00.000+01:00\",\"estimated\":{\"value\":\"2022-11-04T10:30:00.000+01:00\"}}},\"legStatusPublic\":\"SCHEDULED\",\"legStatusPublicLangTransl\":\"Scheduled\",\"passengerCustomsStatus\":\"SCHENGEN\",\"serviceType\":\"J\",\"serviceTypeName\":\"Normal Service\",\"restricted\":false,\"scheduledFlightDuration\":\"PT1H25M\",\"completionPercentage\":\"0\",\"timeZoneDifference\":\"+0000\",\"aircraft\":{\"typeCode\":\"73J\",\"typeName\":\"BOEING 737-900 (WINGLETS) PASSENGER/BBJ3\",\"subFleetCodeId\":\"C\",\"ownerAirlineCode\":\"KL\",\"ownerAirlineName\":\"KLM ROYAL DUTCH AIRLINES\",\"physicalPaxConfiguration\":\"C056M132\",\"operationalConfiguration\":\"C028M150\",\"cockpitCrewEmployer\":\"KL\",\"cabinCrewEmployer\":\"KL\"},\"irregularity\":{\"cancelled\":\"N\"}}]}],\"page\":{\"pageSize\":7,\"pageNumber\":0,\"fullCount\":7,\"pageCount\":7,\"totalPages\":1}}\n"
     ]
    }
   ],
   "source": [
    "import requests\n",
    "url = 'https://api.airfranceklm.com/opendata/flightstatus/' \n",
    "url += '?carrierCode=AF'\n",
    "url += '&flightNumber=8224'\n",
    "url += '&startRange='+startDate\n",
    "url += '&endRange='+endDate\n",
    "print(url)\n",
    "headers={\n",
    "    'accept-language':'en-GB'\n",
    "    ,'Api-Key':apiKey\n",
    "}\n",
    "response = requests.request('GET', url, headers=headers)\n",
    "print(response.text)"
   ]
  },
  {
   "cell_type": "code",
   "execution_count": 6,
   "metadata": {},
   "outputs": [],
   "source": [
    "jsonResponse = response.json()"
   ]
  },
  {
   "cell_type": "code",
   "execution_count": 7,
   "metadata": {},
   "outputs": [
    {
     "data": {
      "text/plain": [
       "dict_keys(['operationalFlights', 'page'])"
      ]
     },
     "execution_count": 7,
     "metadata": {},
     "output_type": "execute_result"
    }
   ],
   "source": [
    "jsonResponse.keys()"
   ]
  },
  {
   "cell_type": "code",
   "execution_count": 17,
   "metadata": {},
   "outputs": [
    {
     "data": {
      "text/plain": [
       "7"
      ]
     },
     "execution_count": 17,
     "metadata": {},
     "output_type": "execute_result"
    }
   ],
   "source": [
    "len(jsonResponse['operationalFlights'])\n"
   ]
  },
  {
   "cell_type": "code",
   "execution_count": 8,
   "metadata": {},
   "outputs": [
    {
     "data": {
      "text/plain": [
       "{'flightNumber': 1224,\n",
       " 'flightScheduleDate': '2022-10-29',\n",
       " 'id': '20221029+KL+1224',\n",
       " 'haul': 'MEDIUM',\n",
       " 'route': ['CDG', 'AMS'],\n",
       " 'airline': {'code': 'KL', 'name': 'KLM ROYAL DUTCH AIRLINES'},\n",
       " 'codeShareRelations': [{'marketingFlightNumber': 8224,\n",
       "   'code': 'F',\n",
       "   'type': 'PASSENGER',\n",
       "   'airline': {'code': 'AF', 'name': 'AIR FRANCE'}},\n",
       "  {'marketingFlightNumber': 7628,\n",
       "   'code': 'F',\n",
       "   'type': 'PASSENGER',\n",
       "   'airline': {'code': 'CZ', 'name': 'CHINA SOUTHERN AIRLINES'}},\n",
       "  {'marketingFlightNumber': 9429,\n",
       "   'code': 'F',\n",
       "   'type': 'PASSENGER',\n",
       "   'airline': {'code': 'DL', 'name': 'DELTA AIR LINES INC.'}},\n",
       "  {'marketingFlightNumber': 9241,\n",
       "   'code': 'F',\n",
       "   'type': 'PASSENGER',\n",
       "   'airline': {'code': 'GA', 'name': 'GARUDA INDONESIA'}},\n",
       "  {'marketingFlightNumber': 1224,\n",
       "   'code': 'F',\n",
       "   'type': 'PASSENGER',\n",
       "   'airline': {'code': 'KQ', 'name': 'KENYA AIRWAYS'}},\n",
       "  {'marketingFlightNumber': 9774,\n",
       "   'code': 'F',\n",
       "   'type': 'PASSENGER',\n",
       "   'airline': {'code': 'MF', 'name': 'XIAMEN AIRLINES'}},\n",
       "  {'marketingFlightNumber': 7592,\n",
       "   'code': 'F',\n",
       "   'type': 'PASSENGER',\n",
       "   'airline': {'code': 'MK', 'name': 'AIR MAURITIUS LTD'}},\n",
       "  {'marketingFlightNumber': 3152,\n",
       "   'code': 'F',\n",
       "   'type': 'PASSENGER',\n",
       "   'airline': {'code': 'VN', 'name': 'VIETNAM AIRLINES JSC'}}],\n",
       " 'flightRelations': {'previousFlightData': {'id': '20221029+KL+1223',\n",
       "   'flightScheduleDate': '2022-10-29',\n",
       "   'airlineCode': 'KL',\n",
       "   'flightNumber': '1223'}},\n",
       " 'flightStatusPublic': 'ARRIVED',\n",
       " 'flightStatusPublicLangTransl': 'Arrived',\n",
       " 'flightLegs': [{'status': 'S',\n",
       "   'statusName': 'Scheduled',\n",
       "   'publishedStatus': 'ARRIVED',\n",
       "   'departureInformation': {'airport': {'code': 'CDG',\n",
       "     'name': 'CHARLES DE GAULLE AIRPORT',\n",
       "     'nameLangTranl': 'Paris Charles de Gaulle Airport',\n",
       "     'city': {'code': 'PAR',\n",
       "      'name': 'PARIS',\n",
       "      'nameLangTranl': 'Paris',\n",
       "      'country': {'areaCode': 'E',\n",
       "       'code': 'FR',\n",
       "       'name': 'FRANCE',\n",
       "       'nameLangTranl': 'France',\n",
       "       'euroCountry': 'Y',\n",
       "       'euCountry': 'Y'}},\n",
       "     'location': {'latitude': 49.0097, 'longitude': 2.5486},\n",
       "     'places': {'aerogareCode': '2',\n",
       "      'gateNumber': ['F34'],\n",
       "      'parkingPosition': 'F32',\n",
       "      'terminalCode': '2F',\n",
       "      'boardingPier': '1',\n",
       "      'boardingTerminal': '2F',\n",
       "      'checkInZone': ['F05', 'F06'],\n",
       "      'boardingContactType': 'C',\n",
       "      'parkingPositionType': 'C',\n",
       "      'departureTerminal': '1',\n",
       "      'parkingPositionCustomStatus': 'D',\n",
       "      'checkInAerogare': '2'}},\n",
       "    'times': {'actual': '2022-10-29T08:53:00.000+02:00',\n",
       "     'scheduled': '2022-10-29T08:40:00.000+02:00',\n",
       "     'latestPublished': '2022-10-29T08:53:00.000+02:00',\n",
       "     'actualTakeOffTime': '2022-10-29T09:07:00.000+02:00'},\n",
       "    'boardingTimes': {'plannedBoardingTime': '2022-10-29T08:20:00.000+02:00',\n",
       "     'gateCloseTime': '2022-10-29T08:25:00.000+02:00'}},\n",
       "   'arrivalInformation': {'airport': {'code': 'AMS',\n",
       "     'name': 'SCHIPHOL AIRPORT',\n",
       "     'nameLangTranl': 'Amsterdam Schiphol Airport',\n",
       "     'city': {'code': 'AMS',\n",
       "      'name': 'AMSTERDAM',\n",
       "      'nameLangTranl': 'Amsterdam',\n",
       "      'country': {'areaCode': 'N',\n",
       "       'code': 'NL',\n",
       "       'name': 'NETHERLANDS',\n",
       "       'nameLangTranl': 'Netherlands',\n",
       "       'euroCountry': 'Y',\n",
       "       'euCountry': 'Y'}},\n",
       "     'location': {'latitude': 52.3083, 'longitude': 4.7681},\n",
       "     'places': {'gateNumber': ['D82'],\n",
       "      'parkingPosition': 'D54',\n",
       "      'pierCode': 'D',\n",
       "      'baggageBelt': ['013'],\n",
       "      'parkingPositionType': 'C',\n",
       "      'disembarkingContactType': 'C',\n",
       "      'arrivalHall': ['2'],\n",
       "      'firstBagOnBeltTime': '2022-10-29T10:35:00.000+02:00',\n",
       "      'lastBagOnBeltTime': '2022-10-29T10:37:00.000+02:00'}},\n",
       "    'times': {'actual': '2022-10-29T10:10:00.000+02:00',\n",
       "     'scheduled': '2022-10-29T10:00:00.000+02:00',\n",
       "     'latestPublished': '2022-10-29T10:10:00.000+02:00',\n",
       "     'estimated': {'value': '2022-10-29T10:10:00.000+02:00'},\n",
       "     'actualTouchDownTime': '2022-10-29T10:00:00.000+02:00'}},\n",
       "   'legStatusPublic': 'ARRIVED',\n",
       "   'legStatusPublicLangTransl': 'Arrived',\n",
       "   'passengerCustomsStatus': 'SCHENGEN',\n",
       "   'serviceType': 'J',\n",
       "   'serviceTypeName': 'Normal Service',\n",
       "   'restricted': False,\n",
       "   'scheduledFlightDuration': 'PT1H20M',\n",
       "   'departureDateTimeDifference': 'PT13M',\n",
       "   'arrivalDateTimeDifference': 'PT10M',\n",
       "   'timeToArrival': 'PT0S',\n",
       "   'completionPercentage': '100',\n",
       "   'timeZoneDifference': '+0000',\n",
       "   'aircraft': {'registration': 'PHBXM',\n",
       "    'typeCode': '73H',\n",
       "    'typeName': 'BOEING 737-800 (WINGLETS) PASSENGER/BBJ2',\n",
       "    'subFleetCodeId': 'F',\n",
       "    'ownerAirlineCode': 'KL',\n",
       "    'ownerAirlineName': 'KLM ROYAL DUTCH AIRLINES',\n",
       "    'physicalPaxConfiguration': 'C036M150',\n",
       "    'operationalConfiguration': 'C012M168',\n",
       "    'cockpitCrewEmployer': 'KL',\n",
       "    'cabinCrewEmployer': 'KL',\n",
       "    'wifiEnabled': 'N',\n",
       "    'satelliteConnectivityOnBoard': 'N'},\n",
       "   'irregularity': {'cancelled': 'N',\n",
       "    'delayReasonCodePublic': ['FSR15'],\n",
       "    'delayReasonPublicLangTransl': ['This flight was delayed due to the late arrival of the aircraft.'],\n",
       "    'delayDurationPublic': 'PT13M',\n",
       "    'delayInformation': [{'delayReasonCodePublic': 'FSR15',\n",
       "      'delayReasonPublicShort': 'Delayed incoming aircraft',\n",
       "      'delayReasonPublicLong': 'This flight was delayed due to the late arrival of the aircraft.'}]}}]}"
      ]
     },
     "execution_count": 8,
     "metadata": {},
     "output_type": "execute_result"
    }
   ],
   "source": [
    "jsonResponse['operationalFlights'][0]\n"
   ]
  },
  {
   "cell_type": "code",
   "execution_count": 10,
   "metadata": {},
   "outputs": [
    {
     "name": "stdout",
     "output_type": "stream",
     "text": [
      "['CDG', 'AMS']\n",
      "ARRIVED\n",
      "jsonResponse['operationalFlights'][0]['flightLegs'] 1\n"
     ]
    }
   ],
   "source": [
    "print(jsonResponse['operationalFlights'][0]['route'])\n",
    "print(jsonResponse['operationalFlights'][0]['flightStatusPublic'])\n",
    "print(\"jsonResponse['operationalFlights'][0]['flightLegs']\", len(jsonResponse['operationalFlights'][0]['flightLegs']))\n",
    "# print(jsonResponse['operationalFlights'][0]))\n"
   ]
  },
  {
   "cell_type": "code",
   "execution_count": 16,
   "metadata": {},
   "outputs": [
    {
     "data": {
      "text/plain": [
       "{'actual': '2022-10-29T08:53:00.000+02:00',\n",
       " 'scheduled': '2022-10-29T08:40:00.000+02:00',\n",
       " 'latestPublished': '2022-10-29T08:53:00.000+02:00',\n",
       " 'actualTakeOffTime': '2022-10-29T09:07:00.000+02:00'}"
      ]
     },
     "execution_count": 16,
     "metadata": {},
     "output_type": "execute_result"
    }
   ],
   "source": [
    "jsonResponse['operationalFlights'][0]['flightLegs'][0]['departureInformation']['times']"
   ]
  },
  {
   "cell_type": "code",
   "execution_count": 146,
   "metadata": {},
   "outputs": [
    {
     "data": {
      "text/plain": [
       "'2022-10-29'"
      ]
     },
     "execution_count": 146,
     "metadata": {},
     "output_type": "execute_result"
    }
   ],
   "source": [
    "jsonResponse['operationalFlights'][0]['flightScheduleDate']"
   ]
  },
  {
   "cell_type": "code",
   "execution_count": 27,
   "metadata": {},
   "outputs": [
    {
     "name": "stdout",
     "output_type": "stream",
     "text": [
      "2022-10-29\n",
      " route:  ['CDG', 'AMS']\n",
      " scheduled:  2022-10-29T08:40:00.000+02:00\n",
      " actual:  2022-10-29T08:53:00.000+02:00\n",
      " actualTakeOffTime:  2022-10-29T09:07:00.000+02:00\n",
      " flightStatusPublic:  ARRIVED\n",
      "2022-10-30\n",
      " route:  ['CDG', 'AMS']\n",
      " scheduled:  2022-10-30T09:05:00.000+01:00\n",
      " actual:  2022-10-30T09:00:00.000+01:00\n",
      " actualTakeOffTime:  2022-10-30T09:11:00.000+01:00\n",
      " flightStatusPublic:  ARRIVED\n",
      "2022-10-31\n",
      " route:  ['CDG', 'AMS']\n",
      " scheduled:  2022-10-31T09:05:00.000+01:00\n",
      " flightStatusPublic:  ON_TIME\n",
      "2022-11-01\n",
      " route:  ['CDG', 'AMS']\n",
      " scheduled:  2022-11-01T09:05:00.000+01:00\n",
      " flightStatusPublic:  SCHEDULED\n",
      "2022-11-02\n",
      " route:  ['CDG', 'AMS']\n",
      " scheduled:  2022-11-02T09:05:00.000+01:00\n",
      " flightStatusPublic:  SCHEDULED\n",
      "2022-11-03\n",
      " route:  ['CDG', 'AMS']\n",
      " scheduled:  2022-11-03T09:05:00.000+01:00\n",
      " flightStatusPublic:  SCHEDULED\n",
      "2022-11-04\n",
      " route:  ['CDG', 'AMS']\n",
      " scheduled:  2022-11-04T09:05:00.000+01:00\n",
      " flightStatusPublic:  SCHEDULED\n"
     ]
    }
   ],
   "source": [
    "for i in range(len(jsonResponse['operationalFlights'])):\n",
    "    print(jsonResponse['operationalFlights'][i]['flightScheduleDate'])\n",
    "    print(' route: ',jsonResponse['operationalFlights'][i]['route'])\n",
    "    print(' scheduled: ',jsonResponse['operationalFlights'][i]['flightLegs'][0]['departureInformation']['times']['scheduled'])\n",
    "    try:\n",
    "        print(' actual: ',jsonResponse['operationalFlights'][i]['flightLegs'][0]['departureInformation']['times']['actual'])\n",
    "    except:\n",
    "        pass\n",
    "    try:\n",
    "        print(' actualTakeOffTime: ',jsonResponse['operationalFlights'][i]['flightLegs'][0]['departureInformation']['times']['actualTakeOffTime'])\n",
    "    except:\n",
    "        pass\n",
    "    print(' flightStatusPublic: ',jsonResponse['operationalFlights'][i]['flightStatusPublic'])"
   ]
  }
 ],
 "metadata": {
  "kernelspec": {
   "display_name": "Python 3.9.13 64-bit (microsoft store)",
   "language": "python",
   "name": "python3"
  },
  "language_info": {
   "codemirror_mode": {
    "name": "ipython",
    "version": 3
   },
   "file_extension": ".py",
   "mimetype": "text/x-python",
   "name": "python",
   "nbconvert_exporter": "python",
   "pygments_lexer": "ipython3",
   "version": "3.9.13"
  },
  "orig_nbformat": 4,
  "vscode": {
   "interpreter": {
    "hash": "6039214bc14160885637f92d82ba9fcad86bce37363ef5771b5906fddd9d8a98"
   }
  }
 },
 "nbformat": 4,
 "nbformat_minor": 2
}
