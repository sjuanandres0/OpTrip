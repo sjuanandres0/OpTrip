{
 "cells": [
  {
   "cell_type": "markdown",
   "metadata": {},
   "source": [
    "# EDA (Exploratory Data Analysis)\n",
    "<p>Lufthansa</p>"
   ]
  },
  {
   "cell_type": "code",
   "execution_count": 74,
   "metadata": {},
   "outputs": [],
   "source": [
    "from ignore.secrets import apiKeyLH, apiSecretLH, botId, chatId\n",
    "apiKey = apiKeyLH\n",
    "apiSecret = apiSecretLH\n",
    "botId = botId\n",
    "chatId = chatId\n"
   ]
  },
  {
   "cell_type": "code",
   "execution_count": 5,
   "metadata": {},
   "outputs": [],
   "source": [
    "# https://developer.lufthansa.com/docs/read/api_partner/offers/Lowest_Fares_New"
   ]
  },
  {
   "cell_type": "code",
   "execution_count": 36,
   "metadata": {},
   "outputs": [
    {
     "name": "stdout",
     "output_type": "stream",
     "text": [
      "startDate:\t 2022-10-28T17:43:12Z\n",
      "endDate:\t 2022-11-04T17:43:12Z\n"
     ]
    }
   ],
   "source": [
    "import datetime\n",
    "\n",
    "def formatDate(date):\n",
    "    return date.strftime(\"%Y-%m-%dT%H:%M:%SZ\")\n",
    "    \n",
    "def getDateRange(substractDays=2, addDays=-5):\n",
    "    now = datetime.datetime.now()\n",
    "    startDate = now - datetime.timedelta(days = 2)\n",
    "    endDate = now - datetime.timedelta(days = -5)\n",
    "    return formatDate(startDate), formatDate(endDate)\n",
    "\n",
    "startDate, endDate = getDateRange()\n",
    "print('startDate:\\t', startDate)\n",
    "print('endDate:\\t', endDate)"
   ]
  },
  {
   "cell_type": "code",
   "execution_count": 37,
   "metadata": {},
   "outputs": [],
   "source": [
    "import requests\n",
    "\n",
    "def sendMsg(message='Test'):\n",
    "    apiUrl = 'https://api.telegram.org/bot{}/sendMessage?chat_id={}&text={}'.format(botId, chatId, message)\n",
    "    requests.get(apiUrl)"
   ]
  },
  {
   "cell_type": "code",
   "execution_count": 38,
   "metadata": {},
   "outputs": [],
   "source": [
    "# sendMsg()"
   ]
  },
  {
   "cell_type": "code",
   "execution_count": 90,
   "metadata": {},
   "outputs": [
    {
     "name": "stdout",
     "output_type": "stream",
     "text": [
      "kbj6f53hw7ph3nzwas5zse4w\n"
     ]
    }
   ],
   "source": [
    "# Get token:\n",
    "# https://stackoverflow.com/questions/20461194/conversion-of-curl-to-python-requests\n",
    "# https://curlconverter.com/\n",
    "# !curl \"https://api.lufthansa.com/v1/oauth/token\" -X POST -d \"client_id=gmw5q99a3bzd3tfc34aeppuq\" -d \"client_secret=FfdWnUHadXWSdRHcqsZY\" -d \"grant_type=client_credentials\"\n",
    "\n",
    "import requests\n",
    "\n",
    "data = {\n",
    "    'client_id': apiKey,\n",
    "    'client_secret': apiSecret,\n",
    "    'grant_type': 'client_credentials',\n",
    "}\n",
    "\n",
    "response = requests.post('https://api.lufthansa.com/v1/oauth/token', data=data)\n",
    "accessToken = response.json()['access_token']\n",
    "print(accessToken)"
   ]
  },
  {
   "cell_type": "code",
   "execution_count": 92,
   "metadata": {},
   "outputs": [
    {
     "name": "stdout",
     "output_type": "stream",
     "text": [
      "http://api.lufthansa.com/v1/offers/seatmaps/LH2037/DUS/MUC/2022-10-31/E\n"
     ]
    },
    {
     "ename": "ConnectionError",
     "evalue": "HTTPConnectionPool(host='api.lufthansa.com', port=80): Max retries exceeded with url: /v1/offers/seatmaps/LH2037/DUS/MUC/2022-10-31/E (Caused by NewConnectionError('<urllib3.connection.HTTPConnection object at 0x00000253687F2310>: Failed to establish a new connection: [WinError 10061] No connection could be made because the target machine actively refused it'))",
     "output_type": "error",
     "traceback": [
      "\u001b[1;31m---------------------------------------------------------------------------\u001b[0m",
      "\u001b[1;31mConnectionRefusedError\u001b[0m                    Traceback (most recent call last)",
      "\u001b[1;32m~\\AppData\\Local\\Packages\\PythonSoftwareFoundation.Python.3.9_qbz5n2kfra8p0\\LocalCache\\local-packages\\Python39\\site-packages\\urllib3\\connection.py\u001b[0m in \u001b[0;36m_new_conn\u001b[1;34m(self)\u001b[0m\n\u001b[0;32m    168\u001b[0m         \u001b[1;32mtry\u001b[0m\u001b[1;33m:\u001b[0m\u001b[1;33m\u001b[0m\u001b[1;33m\u001b[0m\u001b[0m\n\u001b[1;32m--> 169\u001b[1;33m             conn = connection.create_connection(\n\u001b[0m\u001b[0;32m    170\u001b[0m                 \u001b[1;33m(\u001b[0m\u001b[0mself\u001b[0m\u001b[1;33m.\u001b[0m\u001b[0m_dns_host\u001b[0m\u001b[1;33m,\u001b[0m \u001b[0mself\u001b[0m\u001b[1;33m.\u001b[0m\u001b[0mport\u001b[0m\u001b[1;33m)\u001b[0m\u001b[1;33m,\u001b[0m \u001b[0mself\u001b[0m\u001b[1;33m.\u001b[0m\u001b[0mtimeout\u001b[0m\u001b[1;33m,\u001b[0m \u001b[1;33m**\u001b[0m\u001b[0mextra_kw\u001b[0m\u001b[1;33m\u001b[0m\u001b[1;33m\u001b[0m\u001b[0m\n",
      "\u001b[1;32m~\\AppData\\Local\\Packages\\PythonSoftwareFoundation.Python.3.9_qbz5n2kfra8p0\\LocalCache\\local-packages\\Python39\\site-packages\\urllib3\\util\\connection.py\u001b[0m in \u001b[0;36mcreate_connection\u001b[1;34m(address, timeout, source_address, socket_options)\u001b[0m\n\u001b[0;32m     95\u001b[0m     \u001b[1;32mif\u001b[0m \u001b[0merr\u001b[0m \u001b[1;32mis\u001b[0m \u001b[1;32mnot\u001b[0m \u001b[1;32mNone\u001b[0m\u001b[1;33m:\u001b[0m\u001b[1;33m\u001b[0m\u001b[1;33m\u001b[0m\u001b[0m\n\u001b[1;32m---> 96\u001b[1;33m         \u001b[1;32mraise\u001b[0m \u001b[0merr\u001b[0m\u001b[1;33m\u001b[0m\u001b[1;33m\u001b[0m\u001b[0m\n\u001b[0m\u001b[0;32m     97\u001b[0m \u001b[1;33m\u001b[0m\u001b[0m\n",
      "\u001b[1;32m~\\AppData\\Local\\Packages\\PythonSoftwareFoundation.Python.3.9_qbz5n2kfra8p0\\LocalCache\\local-packages\\Python39\\site-packages\\urllib3\\util\\connection.py\u001b[0m in \u001b[0;36mcreate_connection\u001b[1;34m(address, timeout, source_address, socket_options)\u001b[0m\n\u001b[0;32m     85\u001b[0m                 \u001b[0msock\u001b[0m\u001b[1;33m.\u001b[0m\u001b[0mbind\u001b[0m\u001b[1;33m(\u001b[0m\u001b[0msource_address\u001b[0m\u001b[1;33m)\u001b[0m\u001b[1;33m\u001b[0m\u001b[1;33m\u001b[0m\u001b[0m\n\u001b[1;32m---> 86\u001b[1;33m             \u001b[0msock\u001b[0m\u001b[1;33m.\u001b[0m\u001b[0mconnect\u001b[0m\u001b[1;33m(\u001b[0m\u001b[0msa\u001b[0m\u001b[1;33m)\u001b[0m\u001b[1;33m\u001b[0m\u001b[1;33m\u001b[0m\u001b[0m\n\u001b[0m\u001b[0;32m     87\u001b[0m             \u001b[1;32mreturn\u001b[0m \u001b[0msock\u001b[0m\u001b[1;33m\u001b[0m\u001b[1;33m\u001b[0m\u001b[0m\n",
      "\u001b[1;31mConnectionRefusedError\u001b[0m: [WinError 10061] No connection could be made because the target machine actively refused it",
      "\nDuring handling of the above exception, another exception occurred:\n",
      "\u001b[1;31mNewConnectionError\u001b[0m                        Traceback (most recent call last)",
      "\u001b[1;32m~\\AppData\\Local\\Packages\\PythonSoftwareFoundation.Python.3.9_qbz5n2kfra8p0\\LocalCache\\local-packages\\Python39\\site-packages\\urllib3\\connectionpool.py\u001b[0m in \u001b[0;36murlopen\u001b[1;34m(self, method, url, body, headers, retries, redirect, assert_same_host, timeout, pool_timeout, release_conn, chunked, body_pos, **response_kw)\u001b[0m\n\u001b[0;32m    698\u001b[0m             \u001b[1;31m# Make the request on the httplib connection object.\u001b[0m\u001b[1;33m\u001b[0m\u001b[1;33m\u001b[0m\u001b[0m\n\u001b[1;32m--> 699\u001b[1;33m             httplib_response = self._make_request(\n\u001b[0m\u001b[0;32m    700\u001b[0m                 \u001b[0mconn\u001b[0m\u001b[1;33m,\u001b[0m\u001b[1;33m\u001b[0m\u001b[1;33m\u001b[0m\u001b[0m\n",
      "\u001b[1;32m~\\AppData\\Local\\Packages\\PythonSoftwareFoundation.Python.3.9_qbz5n2kfra8p0\\LocalCache\\local-packages\\Python39\\site-packages\\urllib3\\connectionpool.py\u001b[0m in \u001b[0;36m_make_request\u001b[1;34m(self, conn, method, url, timeout, chunked, **httplib_request_kw)\u001b[0m\n\u001b[0;32m    393\u001b[0m             \u001b[1;32melse\u001b[0m\u001b[1;33m:\u001b[0m\u001b[1;33m\u001b[0m\u001b[1;33m\u001b[0m\u001b[0m\n\u001b[1;32m--> 394\u001b[1;33m                 \u001b[0mconn\u001b[0m\u001b[1;33m.\u001b[0m\u001b[0mrequest\u001b[0m\u001b[1;33m(\u001b[0m\u001b[0mmethod\u001b[0m\u001b[1;33m,\u001b[0m \u001b[0murl\u001b[0m\u001b[1;33m,\u001b[0m \u001b[1;33m**\u001b[0m\u001b[0mhttplib_request_kw\u001b[0m\u001b[1;33m)\u001b[0m\u001b[1;33m\u001b[0m\u001b[1;33m\u001b[0m\u001b[0m\n\u001b[0m\u001b[0;32m    395\u001b[0m \u001b[1;33m\u001b[0m\u001b[0m\n",
      "\u001b[1;32m~\\AppData\\Local\\Packages\\PythonSoftwareFoundation.Python.3.9_qbz5n2kfra8p0\\LocalCache\\local-packages\\Python39\\site-packages\\urllib3\\connection.py\u001b[0m in \u001b[0;36mrequest\u001b[1;34m(self, method, url, body, headers)\u001b[0m\n\u001b[0;32m    233\u001b[0m             \u001b[0mheaders\u001b[0m\u001b[1;33m[\u001b[0m\u001b[1;34m\"User-Agent\"\u001b[0m\u001b[1;33m]\u001b[0m \u001b[1;33m=\u001b[0m \u001b[0m_get_default_user_agent\u001b[0m\u001b[1;33m(\u001b[0m\u001b[1;33m)\u001b[0m\u001b[1;33m\u001b[0m\u001b[1;33m\u001b[0m\u001b[0m\n\u001b[1;32m--> 234\u001b[1;33m         \u001b[0msuper\u001b[0m\u001b[1;33m(\u001b[0m\u001b[0mHTTPConnection\u001b[0m\u001b[1;33m,\u001b[0m \u001b[0mself\u001b[0m\u001b[1;33m)\u001b[0m\u001b[1;33m.\u001b[0m\u001b[0mrequest\u001b[0m\u001b[1;33m(\u001b[0m\u001b[0mmethod\u001b[0m\u001b[1;33m,\u001b[0m \u001b[0murl\u001b[0m\u001b[1;33m,\u001b[0m \u001b[0mbody\u001b[0m\u001b[1;33m=\u001b[0m\u001b[0mbody\u001b[0m\u001b[1;33m,\u001b[0m \u001b[0mheaders\u001b[0m\u001b[1;33m=\u001b[0m\u001b[0mheaders\u001b[0m\u001b[1;33m)\u001b[0m\u001b[1;33m\u001b[0m\u001b[1;33m\u001b[0m\u001b[0m\n\u001b[0m\u001b[0;32m    235\u001b[0m \u001b[1;33m\u001b[0m\u001b[0m\n",
      "\u001b[1;32mC:\\Program Files\\WindowsApps\\PythonSoftwareFoundation.Python.3.9_3.9.3568.0_x64__qbz5n2kfra8p0\\lib\\http\\client.py\u001b[0m in \u001b[0;36mrequest\u001b[1;34m(self, method, url, body, headers, encode_chunked)\u001b[0m\n\u001b[0;32m   1284\u001b[0m         \u001b[1;34m\"\"\"Send a complete request to the server.\"\"\"\u001b[0m\u001b[1;33m\u001b[0m\u001b[1;33m\u001b[0m\u001b[0m\n\u001b[1;32m-> 1285\u001b[1;33m         \u001b[0mself\u001b[0m\u001b[1;33m.\u001b[0m\u001b[0m_send_request\u001b[0m\u001b[1;33m(\u001b[0m\u001b[0mmethod\u001b[0m\u001b[1;33m,\u001b[0m \u001b[0murl\u001b[0m\u001b[1;33m,\u001b[0m \u001b[0mbody\u001b[0m\u001b[1;33m,\u001b[0m \u001b[0mheaders\u001b[0m\u001b[1;33m,\u001b[0m \u001b[0mencode_chunked\u001b[0m\u001b[1;33m)\u001b[0m\u001b[1;33m\u001b[0m\u001b[1;33m\u001b[0m\u001b[0m\n\u001b[0m\u001b[0;32m   1286\u001b[0m \u001b[1;33m\u001b[0m\u001b[0m\n",
      "\u001b[1;32mC:\\Program Files\\WindowsApps\\PythonSoftwareFoundation.Python.3.9_3.9.3568.0_x64__qbz5n2kfra8p0\\lib\\http\\client.py\u001b[0m in \u001b[0;36m_send_request\u001b[1;34m(self, method, url, body, headers, encode_chunked)\u001b[0m\n\u001b[0;32m   1330\u001b[0m             \u001b[0mbody\u001b[0m \u001b[1;33m=\u001b[0m \u001b[0m_encode\u001b[0m\u001b[1;33m(\u001b[0m\u001b[0mbody\u001b[0m\u001b[1;33m,\u001b[0m \u001b[1;34m'body'\u001b[0m\u001b[1;33m)\u001b[0m\u001b[1;33m\u001b[0m\u001b[1;33m\u001b[0m\u001b[0m\n\u001b[1;32m-> 1331\u001b[1;33m         \u001b[0mself\u001b[0m\u001b[1;33m.\u001b[0m\u001b[0mendheaders\u001b[0m\u001b[1;33m(\u001b[0m\u001b[0mbody\u001b[0m\u001b[1;33m,\u001b[0m \u001b[0mencode_chunked\u001b[0m\u001b[1;33m=\u001b[0m\u001b[0mencode_chunked\u001b[0m\u001b[1;33m)\u001b[0m\u001b[1;33m\u001b[0m\u001b[1;33m\u001b[0m\u001b[0m\n\u001b[0m\u001b[0;32m   1332\u001b[0m \u001b[1;33m\u001b[0m\u001b[0m\n",
      "\u001b[1;32mC:\\Program Files\\WindowsApps\\PythonSoftwareFoundation.Python.3.9_3.9.3568.0_x64__qbz5n2kfra8p0\\lib\\http\\client.py\u001b[0m in \u001b[0;36mendheaders\u001b[1;34m(self, message_body, encode_chunked)\u001b[0m\n\u001b[0;32m   1279\u001b[0m             \u001b[1;32mraise\u001b[0m \u001b[0mCannotSendHeader\u001b[0m\u001b[1;33m(\u001b[0m\u001b[1;33m)\u001b[0m\u001b[1;33m\u001b[0m\u001b[1;33m\u001b[0m\u001b[0m\n\u001b[1;32m-> 1280\u001b[1;33m         \u001b[0mself\u001b[0m\u001b[1;33m.\u001b[0m\u001b[0m_send_output\u001b[0m\u001b[1;33m(\u001b[0m\u001b[0mmessage_body\u001b[0m\u001b[1;33m,\u001b[0m \u001b[0mencode_chunked\u001b[0m\u001b[1;33m=\u001b[0m\u001b[0mencode_chunked\u001b[0m\u001b[1;33m)\u001b[0m\u001b[1;33m\u001b[0m\u001b[1;33m\u001b[0m\u001b[0m\n\u001b[0m\u001b[0;32m   1281\u001b[0m \u001b[1;33m\u001b[0m\u001b[0m\n",
      "\u001b[1;32mC:\\Program Files\\WindowsApps\\PythonSoftwareFoundation.Python.3.9_3.9.3568.0_x64__qbz5n2kfra8p0\\lib\\http\\client.py\u001b[0m in \u001b[0;36m_send_output\u001b[1;34m(self, message_body, encode_chunked)\u001b[0m\n\u001b[0;32m   1039\u001b[0m         \u001b[1;32mdel\u001b[0m \u001b[0mself\u001b[0m\u001b[1;33m.\u001b[0m\u001b[0m_buffer\u001b[0m\u001b[1;33m[\u001b[0m\u001b[1;33m:\u001b[0m\u001b[1;33m]\u001b[0m\u001b[1;33m\u001b[0m\u001b[1;33m\u001b[0m\u001b[0m\n\u001b[1;32m-> 1040\u001b[1;33m         \u001b[0mself\u001b[0m\u001b[1;33m.\u001b[0m\u001b[0msend\u001b[0m\u001b[1;33m(\u001b[0m\u001b[0mmsg\u001b[0m\u001b[1;33m)\u001b[0m\u001b[1;33m\u001b[0m\u001b[1;33m\u001b[0m\u001b[0m\n\u001b[0m\u001b[0;32m   1041\u001b[0m \u001b[1;33m\u001b[0m\u001b[0m\n",
      "\u001b[1;32mC:\\Program Files\\WindowsApps\\PythonSoftwareFoundation.Python.3.9_3.9.3568.0_x64__qbz5n2kfra8p0\\lib\\http\\client.py\u001b[0m in \u001b[0;36msend\u001b[1;34m(self, data)\u001b[0m\n\u001b[0;32m    979\u001b[0m             \u001b[1;32mif\u001b[0m \u001b[0mself\u001b[0m\u001b[1;33m.\u001b[0m\u001b[0mauto_open\u001b[0m\u001b[1;33m:\u001b[0m\u001b[1;33m\u001b[0m\u001b[1;33m\u001b[0m\u001b[0m\n\u001b[1;32m--> 980\u001b[1;33m                 \u001b[0mself\u001b[0m\u001b[1;33m.\u001b[0m\u001b[0mconnect\u001b[0m\u001b[1;33m(\u001b[0m\u001b[1;33m)\u001b[0m\u001b[1;33m\u001b[0m\u001b[1;33m\u001b[0m\u001b[0m\n\u001b[0m\u001b[0;32m    981\u001b[0m             \u001b[1;32melse\u001b[0m\u001b[1;33m:\u001b[0m\u001b[1;33m\u001b[0m\u001b[1;33m\u001b[0m\u001b[0m\n",
      "\u001b[1;32m~\\AppData\\Local\\Packages\\PythonSoftwareFoundation.Python.3.9_qbz5n2kfra8p0\\LocalCache\\local-packages\\Python39\\site-packages\\urllib3\\connection.py\u001b[0m in \u001b[0;36mconnect\u001b[1;34m(self)\u001b[0m\n\u001b[0;32m    199\u001b[0m     \u001b[1;32mdef\u001b[0m \u001b[0mconnect\u001b[0m\u001b[1;33m(\u001b[0m\u001b[0mself\u001b[0m\u001b[1;33m)\u001b[0m\u001b[1;33m:\u001b[0m\u001b[1;33m\u001b[0m\u001b[1;33m\u001b[0m\u001b[0m\n\u001b[1;32m--> 200\u001b[1;33m         \u001b[0mconn\u001b[0m \u001b[1;33m=\u001b[0m \u001b[0mself\u001b[0m\u001b[1;33m.\u001b[0m\u001b[0m_new_conn\u001b[0m\u001b[1;33m(\u001b[0m\u001b[1;33m)\u001b[0m\u001b[1;33m\u001b[0m\u001b[1;33m\u001b[0m\u001b[0m\n\u001b[0m\u001b[0;32m    201\u001b[0m         \u001b[0mself\u001b[0m\u001b[1;33m.\u001b[0m\u001b[0m_prepare_conn\u001b[0m\u001b[1;33m(\u001b[0m\u001b[0mconn\u001b[0m\u001b[1;33m)\u001b[0m\u001b[1;33m\u001b[0m\u001b[1;33m\u001b[0m\u001b[0m\n",
      "\u001b[1;32m~\\AppData\\Local\\Packages\\PythonSoftwareFoundation.Python.3.9_qbz5n2kfra8p0\\LocalCache\\local-packages\\Python39\\site-packages\\urllib3\\connection.py\u001b[0m in \u001b[0;36m_new_conn\u001b[1;34m(self)\u001b[0m\n\u001b[0;32m    180\u001b[0m         \u001b[1;32mexcept\u001b[0m \u001b[0mSocketError\u001b[0m \u001b[1;32mas\u001b[0m \u001b[0me\u001b[0m\u001b[1;33m:\u001b[0m\u001b[1;33m\u001b[0m\u001b[1;33m\u001b[0m\u001b[0m\n\u001b[1;32m--> 181\u001b[1;33m             raise NewConnectionError(\n\u001b[0m\u001b[0;32m    182\u001b[0m                 \u001b[0mself\u001b[0m\u001b[1;33m,\u001b[0m \u001b[1;34m\"Failed to establish a new connection: %s\"\u001b[0m \u001b[1;33m%\u001b[0m \u001b[0me\u001b[0m\u001b[1;33m\u001b[0m\u001b[1;33m\u001b[0m\u001b[0m\n",
      "\u001b[1;31mNewConnectionError\u001b[0m: <urllib3.connection.HTTPConnection object at 0x00000253687F2310>: Failed to establish a new connection: [WinError 10061] No connection could be made because the target machine actively refused it",
      "\nDuring handling of the above exception, another exception occurred:\n",
      "\u001b[1;31mMaxRetryError\u001b[0m                             Traceback (most recent call last)",
      "\u001b[1;32m~\\AppData\\Local\\Packages\\PythonSoftwareFoundation.Python.3.9_qbz5n2kfra8p0\\LocalCache\\local-packages\\Python39\\site-packages\\requests\\adapters.py\u001b[0m in \u001b[0;36msend\u001b[1;34m(self, request, stream, timeout, verify, cert, proxies)\u001b[0m\n\u001b[0;32m    439\u001b[0m             \u001b[1;32mif\u001b[0m \u001b[1;32mnot\u001b[0m \u001b[0mchunked\u001b[0m\u001b[1;33m:\u001b[0m\u001b[1;33m\u001b[0m\u001b[1;33m\u001b[0m\u001b[0m\n\u001b[1;32m--> 440\u001b[1;33m                 resp = conn.urlopen(\n\u001b[0m\u001b[0;32m    441\u001b[0m                     \u001b[0mmethod\u001b[0m\u001b[1;33m=\u001b[0m\u001b[0mrequest\u001b[0m\u001b[1;33m.\u001b[0m\u001b[0mmethod\u001b[0m\u001b[1;33m,\u001b[0m\u001b[1;33m\u001b[0m\u001b[1;33m\u001b[0m\u001b[0m\n",
      "\u001b[1;32m~\\AppData\\Local\\Packages\\PythonSoftwareFoundation.Python.3.9_qbz5n2kfra8p0\\LocalCache\\local-packages\\Python39\\site-packages\\urllib3\\connectionpool.py\u001b[0m in \u001b[0;36murlopen\u001b[1;34m(self, method, url, body, headers, retries, redirect, assert_same_host, timeout, pool_timeout, release_conn, chunked, body_pos, **response_kw)\u001b[0m\n\u001b[0;32m    754\u001b[0m \u001b[1;33m\u001b[0m\u001b[0m\n\u001b[1;32m--> 755\u001b[1;33m             retries = retries.increment(\n\u001b[0m\u001b[0;32m    756\u001b[0m                 \u001b[0mmethod\u001b[0m\u001b[1;33m,\u001b[0m \u001b[0murl\u001b[0m\u001b[1;33m,\u001b[0m \u001b[0merror\u001b[0m\u001b[1;33m=\u001b[0m\u001b[0me\u001b[0m\u001b[1;33m,\u001b[0m \u001b[0m_pool\u001b[0m\u001b[1;33m=\u001b[0m\u001b[0mself\u001b[0m\u001b[1;33m,\u001b[0m \u001b[0m_stacktrace\u001b[0m\u001b[1;33m=\u001b[0m\u001b[0msys\u001b[0m\u001b[1;33m.\u001b[0m\u001b[0mexc_info\u001b[0m\u001b[1;33m(\u001b[0m\u001b[1;33m)\u001b[0m\u001b[1;33m[\u001b[0m\u001b[1;36m2\u001b[0m\u001b[1;33m]\u001b[0m\u001b[1;33m\u001b[0m\u001b[1;33m\u001b[0m\u001b[0m\n",
      "\u001b[1;32m~\\AppData\\Local\\Packages\\PythonSoftwareFoundation.Python.3.9_qbz5n2kfra8p0\\LocalCache\\local-packages\\Python39\\site-packages\\urllib3\\util\\retry.py\u001b[0m in \u001b[0;36mincrement\u001b[1;34m(self, method, url, response, error, _pool, _stacktrace)\u001b[0m\n\u001b[0;32m    573\u001b[0m         \u001b[1;32mif\u001b[0m \u001b[0mnew_retry\u001b[0m\u001b[1;33m.\u001b[0m\u001b[0mis_exhausted\u001b[0m\u001b[1;33m(\u001b[0m\u001b[1;33m)\u001b[0m\u001b[1;33m:\u001b[0m\u001b[1;33m\u001b[0m\u001b[1;33m\u001b[0m\u001b[0m\n\u001b[1;32m--> 574\u001b[1;33m             \u001b[1;32mraise\u001b[0m \u001b[0mMaxRetryError\u001b[0m\u001b[1;33m(\u001b[0m\u001b[0m_pool\u001b[0m\u001b[1;33m,\u001b[0m \u001b[0murl\u001b[0m\u001b[1;33m,\u001b[0m \u001b[0merror\u001b[0m \u001b[1;32mor\u001b[0m \u001b[0mResponseError\u001b[0m\u001b[1;33m(\u001b[0m\u001b[0mcause\u001b[0m\u001b[1;33m)\u001b[0m\u001b[1;33m)\u001b[0m\u001b[1;33m\u001b[0m\u001b[1;33m\u001b[0m\u001b[0m\n\u001b[0m\u001b[0;32m    575\u001b[0m \u001b[1;33m\u001b[0m\u001b[0m\n",
      "\u001b[1;31mMaxRetryError\u001b[0m: HTTPConnectionPool(host='api.lufthansa.com', port=80): Max retries exceeded with url: /v1/offers/seatmaps/LH2037/DUS/MUC/2022-10-31/E (Caused by NewConnectionError('<urllib3.connection.HTTPConnection object at 0x00000253687F2310>: Failed to establish a new connection: [WinError 10061] No connection could be made because the target machine actively refused it'))",
      "\nDuring handling of the above exception, another exception occurred:\n",
      "\u001b[1;31mConnectionError\u001b[0m                           Traceback (most recent call last)",
      "\u001b[1;32m<ipython-input-92-15f70d5834c7>\u001b[0m in \u001b[0;36m<module>\u001b[1;34m\u001b[0m\n\u001b[0;32m     30\u001b[0m     \u001b[1;31m# ,'AFKL-TRAVEL-Host':'KL'\u001b[0m\u001b[1;33m\u001b[0m\u001b[1;33m\u001b[0m\u001b[0m\n\u001b[0;32m     31\u001b[0m }\n\u001b[1;32m---> 32\u001b[1;33m \u001b[0mresponse\u001b[0m \u001b[1;33m=\u001b[0m \u001b[0mrequests\u001b[0m\u001b[1;33m.\u001b[0m\u001b[0mrequest\u001b[0m\u001b[1;33m(\u001b[0m\u001b[1;34m'GET'\u001b[0m\u001b[1;33m,\u001b[0m \u001b[0murl\u001b[0m\u001b[1;33m,\u001b[0m \u001b[0mheaders\u001b[0m\u001b[1;33m=\u001b[0m\u001b[0mheaders\u001b[0m\u001b[1;33m)\u001b[0m\u001b[1;33m\u001b[0m\u001b[1;33m\u001b[0m\u001b[0m\n\u001b[0m\u001b[0;32m     33\u001b[0m \u001b[0mprint\u001b[0m\u001b[1;33m(\u001b[0m\u001b[0mresponse\u001b[0m\u001b[1;33m.\u001b[0m\u001b[0mtext\u001b[0m\u001b[1;33m)\u001b[0m\u001b[1;33m\u001b[0m\u001b[1;33m\u001b[0m\u001b[0m\n",
      "\u001b[1;32m~\\AppData\\Local\\Packages\\PythonSoftwareFoundation.Python.3.9_qbz5n2kfra8p0\\LocalCache\\local-packages\\Python39\\site-packages\\requests\\api.py\u001b[0m in \u001b[0;36mrequest\u001b[1;34m(method, url, **kwargs)\u001b[0m\n\u001b[0;32m     59\u001b[0m     \u001b[1;31m# cases, and look like a memory leak in others.\u001b[0m\u001b[1;33m\u001b[0m\u001b[1;33m\u001b[0m\u001b[0m\n\u001b[0;32m     60\u001b[0m     \u001b[1;32mwith\u001b[0m \u001b[0msessions\u001b[0m\u001b[1;33m.\u001b[0m\u001b[0mSession\u001b[0m\u001b[1;33m(\u001b[0m\u001b[1;33m)\u001b[0m \u001b[1;32mas\u001b[0m \u001b[0msession\u001b[0m\u001b[1;33m:\u001b[0m\u001b[1;33m\u001b[0m\u001b[1;33m\u001b[0m\u001b[0m\n\u001b[1;32m---> 61\u001b[1;33m         \u001b[1;32mreturn\u001b[0m \u001b[0msession\u001b[0m\u001b[1;33m.\u001b[0m\u001b[0mrequest\u001b[0m\u001b[1;33m(\u001b[0m\u001b[0mmethod\u001b[0m\u001b[1;33m=\u001b[0m\u001b[0mmethod\u001b[0m\u001b[1;33m,\u001b[0m \u001b[0murl\u001b[0m\u001b[1;33m=\u001b[0m\u001b[0murl\u001b[0m\u001b[1;33m,\u001b[0m \u001b[1;33m**\u001b[0m\u001b[0mkwargs\u001b[0m\u001b[1;33m)\u001b[0m\u001b[1;33m\u001b[0m\u001b[1;33m\u001b[0m\u001b[0m\n\u001b[0m\u001b[0;32m     62\u001b[0m \u001b[1;33m\u001b[0m\u001b[0m\n\u001b[0;32m     63\u001b[0m \u001b[1;33m\u001b[0m\u001b[0m\n",
      "\u001b[1;32m~\\AppData\\Local\\Packages\\PythonSoftwareFoundation.Python.3.9_qbz5n2kfra8p0\\LocalCache\\local-packages\\Python39\\site-packages\\requests\\sessions.py\u001b[0m in \u001b[0;36mrequest\u001b[1;34m(self, method, url, params, data, headers, cookies, files, auth, timeout, allow_redirects, proxies, hooks, stream, verify, cert, json)\u001b[0m\n\u001b[0;32m    527\u001b[0m         }\n\u001b[0;32m    528\u001b[0m         \u001b[0msend_kwargs\u001b[0m\u001b[1;33m.\u001b[0m\u001b[0mupdate\u001b[0m\u001b[1;33m(\u001b[0m\u001b[0msettings\u001b[0m\u001b[1;33m)\u001b[0m\u001b[1;33m\u001b[0m\u001b[1;33m\u001b[0m\u001b[0m\n\u001b[1;32m--> 529\u001b[1;33m         \u001b[0mresp\u001b[0m \u001b[1;33m=\u001b[0m \u001b[0mself\u001b[0m\u001b[1;33m.\u001b[0m\u001b[0msend\u001b[0m\u001b[1;33m(\u001b[0m\u001b[0mprep\u001b[0m\u001b[1;33m,\u001b[0m \u001b[1;33m**\u001b[0m\u001b[0msend_kwargs\u001b[0m\u001b[1;33m)\u001b[0m\u001b[1;33m\u001b[0m\u001b[1;33m\u001b[0m\u001b[0m\n\u001b[0m\u001b[0;32m    530\u001b[0m \u001b[1;33m\u001b[0m\u001b[0m\n\u001b[0;32m    531\u001b[0m         \u001b[1;32mreturn\u001b[0m \u001b[0mresp\u001b[0m\u001b[1;33m\u001b[0m\u001b[1;33m\u001b[0m\u001b[0m\n",
      "\u001b[1;32m~\\AppData\\Local\\Packages\\PythonSoftwareFoundation.Python.3.9_qbz5n2kfra8p0\\LocalCache\\local-packages\\Python39\\site-packages\\requests\\sessions.py\u001b[0m in \u001b[0;36msend\u001b[1;34m(self, request, **kwargs)\u001b[0m\n\u001b[0;32m    643\u001b[0m \u001b[1;33m\u001b[0m\u001b[0m\n\u001b[0;32m    644\u001b[0m         \u001b[1;31m# Send the request\u001b[0m\u001b[1;33m\u001b[0m\u001b[1;33m\u001b[0m\u001b[0m\n\u001b[1;32m--> 645\u001b[1;33m         \u001b[0mr\u001b[0m \u001b[1;33m=\u001b[0m \u001b[0madapter\u001b[0m\u001b[1;33m.\u001b[0m\u001b[0msend\u001b[0m\u001b[1;33m(\u001b[0m\u001b[0mrequest\u001b[0m\u001b[1;33m,\u001b[0m \u001b[1;33m**\u001b[0m\u001b[0mkwargs\u001b[0m\u001b[1;33m)\u001b[0m\u001b[1;33m\u001b[0m\u001b[1;33m\u001b[0m\u001b[0m\n\u001b[0m\u001b[0;32m    646\u001b[0m \u001b[1;33m\u001b[0m\u001b[0m\n\u001b[0;32m    647\u001b[0m         \u001b[1;31m# Total elapsed time of the request (approximately)\u001b[0m\u001b[1;33m\u001b[0m\u001b[1;33m\u001b[0m\u001b[0m\n",
      "\u001b[1;32m~\\AppData\\Local\\Packages\\PythonSoftwareFoundation.Python.3.9_qbz5n2kfra8p0\\LocalCache\\local-packages\\Python39\\site-packages\\requests\\adapters.py\u001b[0m in \u001b[0;36msend\u001b[1;34m(self, request, stream, timeout, verify, cert, proxies)\u001b[0m\n\u001b[0;32m    517\u001b[0m                 \u001b[1;32mraise\u001b[0m \u001b[0mSSLError\u001b[0m\u001b[1;33m(\u001b[0m\u001b[0me\u001b[0m\u001b[1;33m,\u001b[0m \u001b[0mrequest\u001b[0m\u001b[1;33m=\u001b[0m\u001b[0mrequest\u001b[0m\u001b[1;33m)\u001b[0m\u001b[1;33m\u001b[0m\u001b[1;33m\u001b[0m\u001b[0m\n\u001b[0;32m    518\u001b[0m \u001b[1;33m\u001b[0m\u001b[0m\n\u001b[1;32m--> 519\u001b[1;33m             \u001b[1;32mraise\u001b[0m \u001b[0mConnectionError\u001b[0m\u001b[1;33m(\u001b[0m\u001b[0me\u001b[0m\u001b[1;33m,\u001b[0m \u001b[0mrequest\u001b[0m\u001b[1;33m=\u001b[0m\u001b[0mrequest\u001b[0m\u001b[1;33m)\u001b[0m\u001b[1;33m\u001b[0m\u001b[1;33m\u001b[0m\u001b[0m\n\u001b[0m\u001b[0;32m    520\u001b[0m \u001b[1;33m\u001b[0m\u001b[0m\n\u001b[0;32m    521\u001b[0m         \u001b[1;32mexcept\u001b[0m \u001b[0mClosedPoolError\u001b[0m \u001b[1;32mas\u001b[0m \u001b[0me\u001b[0m\u001b[1;33m:\u001b[0m\u001b[1;33m\u001b[0m\u001b[1;33m\u001b[0m\u001b[0m\n",
      "\u001b[1;31mConnectionError\u001b[0m: HTTPConnectionPool(host='api.lufthansa.com', port=80): Max retries exceeded with url: /v1/offers/seatmaps/LH2037/DUS/MUC/2022-10-31/E (Caused by NewConnectionError('<urllib3.connection.HTTPConnection object at 0x00000253687F2310>: Failed to establish a new connection: [WinError 10061] No connection could be made because the target machine actively refused it'))"
     ]
    }
   ],
   "source": [
    "import requests\n",
    "# url = 'https://api.airfranceklm.com/opendata/1.0.0/best-fare-offers/top-deals' \n",
    "# url = 'https://api.airfranceklm.com/opendata/flightoffer' \n",
    "# url = 'https://api.airfranceklm.com/opendata/1.0.0/search-context' \n",
    "# url = 'https://api.lufthansa.com/v1/offers/faresbestprice/lowestfares?origin=FRA&destination=LHR&travel-date=2016-10-27&return-date=2016-11-09&cabin-class=Economy&travelers=(adult=1)&country=deResponse Structure Definition' \n",
    "# url = 'https://api.lufthansa.com/v1/offers/seatmaps/LH2037/DUS/MUC/2022-10-31/C' #works \n",
    "# url = 'https://api.lufthansa.com/v1/offers/faresbestprice/lowestfares?origin=FRA&destination=LHR&travel-date=2016-10-27&return-date=2016-11-09&cabin-class=Economy&travelers=(adult=1)&country=de'\n",
    "url = 'https://api.lufthansa.com/v1'\n",
    "# url += '/promotions/priceoffers/flights/ond/FRA/AMS?departureDate=2022-11-01&returnDate=2022-12-02&service=amadeusBestPrice' \n",
    "# url = 'http://api.lufthansa.com/v1/offers/fares/allfares?cabin-class=%7B%7D&catalogues=%7B%7D&destination=%7B%7D&fare-family=%7B%7D&origin=%7B%7D&return-date=%7B%7D&trackingid=%7B%7D&travel-date=%7B%7D&travelers=%7B%7D' \n",
    "# url = 'http://api.lufthansa.com/v1/offers/fares/allfares?cabin-class={}&catalogues={}&destination=AMS&fare-family=&origin=%7B%7D&return-date=%7B%7D&trackingid=%7B%7D&travel-date=%7B%7D&travelers=%7B%7D' \n",
    "# url = 'https://api.lufthansa.com/v1/offers/ond/top?origin=AMS'\n",
    "url = 'http://api.lufthansa.com/v1/offers/seatmaps/LH2037/DUS/MUC/2022-10-31/E'\n",
    "# url = 'https://api.lufthansa.com/v1/mds-references/airports/?lang=EN&limit=20&offset=0&LHoperated=1&group=AllAirports' # works \n",
    "# url += '/promotions/priceoffers/flights/ond/FRA/AMS?departureDate=2022-11-01&returnDate=2022-12-02' \n",
    "# url = 'https://api.lufthansa.com/v1/offers/seatmaps/LH2037/DUS/MUC/2022-10-31/C' \n",
    "# url = 'https://api.lufthansa.com/v1/offers/seatmaps/LH400/FRA/JFK/2022-12-03/C' \n",
    "# url = 'https://api.lufthansa.com/v1/mds-references/countries/DK?limit=20&offset=0' \n",
    "# url += '?flight=AF_8224_2022-10-31'\n",
    "# url += '&flightNumber=8224'\n",
    "# url += '&startRange='+startDate\n",
    "# url += '&endRange='+endDate\n",
    "print(url)\n",
    "headers={\n",
    "    # 'accept-language':'en-GB'\n",
    "    # ,'Api-Key':apiKey\n",
    "    'Accept': 'application/json'\n",
    "    ,'Content-Type': 'application/json'\n",
    "    ,'Authorization': 'Bearer ' + accessToken\n",
    "    # ,'AFKL-TRAVEL-Host':'KL'\n",
    "}\n",
    "response = requests.request('GET', url, headers=headers)\n",
    "print(response.text)"
   ]
  },
  {
   "cell_type": "code",
   "execution_count": 93,
   "metadata": {},
   "outputs": [
    {
     "name": "stdout",
     "output_type": "stream",
     "text": [
      "https://api.lufthansa.com/v1/mds-references/airports/?lang=EN&limit=20&offset=0&LHoperated=1&group=AllAirports\n",
      "{\"AirportResource\":{\"Airports\":{\"Airport\":[{\"AirportCode\":\"AAE\",\"Position\":{\"Coordinate\":{\"Latitude\":36.8222,\"Longitude\":7.8092}},\"CityCode\":\"AAE\",\"CountryCode\":\"DZ\",\"LocationType\":\"Airport\",\"Names\":{\"Name\":{\"@LanguageCode\":\"EN\",\"$\":\"Annaba Rabah Bitat\"}},\"UtcOffset\":\"+01:00\",\"TimeZoneId\":\"Africa/Algiers\"},{\"AirportCode\":\"AAL\",\"Position\":{\"Coordinate\":{\"Latitude\":57.0928,\"Longitude\":9.8492}},\"CityCode\":\"AAL\",\"CountryCode\":\"DK\",\"LocationType\":\"Airport\",\"Names\":{\"Name\":{\"@LanguageCode\":\"EN\",\"$\":\"Aalborg\"}},\"UtcOffset\":\"+01:00\",\"TimeZoneId\":\"Europe/Copenhagen\"},{\"AirportCode\":\"AAQ\",\"Position\":{\"Coordinate\":{\"Latitude\":45.0022,\"Longitude\":37.3472}},\"CityCode\":\"AAQ\",\"CountryCode\":\"RU\",\"LocationType\":\"Airport\",\"Names\":{\"Name\":{\"@LanguageCode\":\"EN\",\"$\":\"Anapa\"}},\"UtcOffset\":\"+03:00\",\"TimeZoneId\":\"Europe/Moscow\"},{\"AirportCode\":\"AAR\",\"Position\":{\"Coordinate\":{\"Latitude\":56.3039,\"Longitude\":10.6194}},\"CityCode\":\"AAR\",\"CountryCode\":\"DK\",\"LocationType\":\"Airport\",\"Names\":{\"Name\":{\"@LanguageCode\":\"EN\",\"$\":\"Aarhus Tirstrup\"}},\"UtcOffset\":\"+01:00\",\"TimeZoneId\":\"Europe/Copenhagen\"},{\"AirportCode\":\"ABE\",\"Position\":{\"Coordinate\":{\"Latitude\":40.6522,\"Longitude\":-75.4408}},\"CityCode\":\"ABE\",\"CountryCode\":\"US\",\"LocationType\":\"Airport\",\"Names\":{\"Name\":{\"@LanguageCode\":\"EN\",\"$\":\"Allentown/Bethlehem\"}},\"UtcOffset\":\"-05:00\",\"TimeZoneId\":\"America/New_York\"},{\"AirportCode\":\"ABI\",\"Position\":{\"Coordinate\":{\"Latitude\":32.4114,\"Longitude\":-99.6819}},\"CityCode\":\"ABI\",\"CountryCode\":\"US\",\"LocationType\":\"Airport\",\"Names\":{\"Name\":{\"@LanguageCode\":\"EN\",\"$\":\"Abilene\"}},\"UtcOffset\":\"-06:00\",\"TimeZoneId\":\"America/Chicago\"},{\"AirportCode\":\"ABJ\",\"Position\":{\"Coordinate\":{\"Latitude\":5.2614,\"Longitude\":-3.9264}},\"CityCode\":\"ABJ\",\"CountryCode\":\"CI\",\"LocationType\":\"Airport\",\"Names\":{\"Name\":{\"@LanguageCode\":\"EN\",\"$\":\"Abidjan\"}},\"UtcOffset\":\"+00:00\",\"TimeZoneId\":\"Africa/Abidjan\"},{\"AirportCode\":\"ABK\",\"Position\":{\"Coordinate\":{\"Latitude\":6.7339,\"Longitude\":44.2553}},\"CityCode\":\"ABK\",\"CountryCode\":\"ET\",\"LocationType\":\"Airport\",\"Names\":{\"Name\":{\"@LanguageCode\":\"EN\",\"$\":\"Kabri Dar\"}},\"UtcOffset\":\"+03:00\",\"TimeZoneId\":\"Africa/Addis_Ababa\"},{\"AirportCode\":\"ABQ\",\"Position\":{\"Coordinate\":{\"Latitude\":35.0406,\"Longitude\":-106.6094}},\"CityCode\":\"ABQ\",\"CountryCode\":\"US\",\"LocationType\":\"Airport\",\"Names\":{\"Name\":{\"@LanguageCode\":\"EN\",\"$\":\"Albuquerque\"}},\"UtcOffset\":\"-07:00\",\"TimeZoneId\":\"America/Denver\"},{\"AirportCode\":\"ABS\",\"Position\":{\"Coordinate\":{\"Latitude\":22.3758,\"Longitude\":31.6117}},\"CityCode\":\"ABS\",\"CountryCode\":\"EG\",\"LocationType\":\"Airport\",\"Names\":{\"Name\":{\"@LanguageCode\":\"EN\",\"$\":\"Abu Simbel\"}},\"UtcOffset\":\"+02:00\",\"TimeZoneId\":\"Africa/Cairo\"},{\"AirportCode\":\"ABV\",\"Position\":{\"Coordinate\":{\"Latitude\":9.0067,\"Longitude\":7.2631}},\"CityCode\":\"ABV\",\"CountryCode\":\"NG\",\"LocationType\":\"Airport\",\"Names\":{\"Name\":{\"@LanguageCode\":\"EN\",\"$\":\"Abuja\"}},\"UtcOffset\":\"+01:00\",\"TimeZoneId\":\"Africa/Lagos\"},{\"AirportCode\":\"ABY\",\"Position\":{\"Coordinate\":{\"Latitude\":31.5356,\"Longitude\":-84.1944}},\"CityCode\":\"ABY\",\"CountryCode\":\"US\",\"LocationType\":\"Airport\",\"Names\":{\"Name\":{\"@LanguageCode\":\"EN\",\"$\":\"Albany (US)\"}},\"UtcOffset\":\"-05:00\",\"TimeZoneId\":\"America/New_York\"},{\"AirportCode\":\"ABZ\",\"Position\":{\"Coordinate\":{\"Latitude\":57.2042,\"Longitude\":-2.2003}},\"CityCode\":\"ABZ\",\"CountryCode\":\"GB\",\"LocationType\":\"Airport\",\"Names\":{\"Name\":{\"@LanguageCode\":\"EN\",\"$\":\"Aberdeen (GB)\"}},\"UtcOffset\":\"+00:00\",\"TimeZoneId\":\"Europe/London\"},{\"AirportCode\":\"ACA\",\"Position\":{\"Coordinate\":{\"Latitude\":16.7569,\"Longitude\":-99.7539}},\"CityCode\":\"ACA\",\"CountryCode\":\"MX\",\"LocationType\":\"Airport\",\"Names\":{\"Name\":{\"@LanguageCode\":\"EN\",\"$\":\"Acapulco\"}},\"UtcOffset\":\"-06:00\",\"TimeZoneId\":\"America/Mexico_City\"},{\"AirportCode\":\"ACC\",\"Position\":{\"Coordinate\":{\"Latitude\":5.6053,\"Longitude\":-0.1667}},\"CityCode\":\"ACC\",\"CountryCode\":\"GH\",\"LocationType\":\"Airport\",\"Names\":{\"Name\":{\"@LanguageCode\":\"EN\",\"$\":\"Accra\"}},\"UtcOffset\":\"+00:00\",\"TimeZoneId\":\"Africa/Accra\"},{\"AirportCode\":\"ACE\",\"Position\":{\"Coordinate\":{\"Latitude\":28.9456,\"Longitude\":-13.6053}},\"CityCode\":\"ACE\",\"CountryCode\":\"ES\",\"LocationType\":\"Airport\",\"Names\":{\"Name\":{\"@LanguageCode\":\"EN\",\"$\":\"Lanzarote\"}},\"UtcOffset\":\"+00:00\",\"TimeZoneId\":\"Atlantic/Canary\"},{\"AirportCode\":\"ACT\",\"Position\":{\"Coordinate\":{\"Latitude\":31.6114,\"Longitude\":-97.2306}},\"CityCode\":\"ACT\",\"CountryCode\":\"US\",\"LocationType\":\"Airport\",\"Names\":{\"Name\":{\"@LanguageCode\":\"EN\",\"$\":\"Waco\"}},\"UtcOffset\":\"-06:00\",\"TimeZoneId\":\"America/Chicago\"},{\"AirportCode\":\"ACV\",\"Position\":{\"Coordinate\":{\"Latitude\":40.9781,\"Longitude\":-124.1086}},\"CityCode\":\"ACV\",\"CountryCode\":\"US\",\"LocationType\":\"Airport\",\"Names\":{\"Name\":{\"@LanguageCode\":\"EN\",\"$\":\"Arcata/Eureka\"}},\"UtcOffset\":\"-08:00\",\"TimeZoneId\":\"America/Los_Angeles\"},{\"AirportCode\":\"ADA\",\"Position\":{\"Coordinate\":{\"Latitude\":36.9822,\"Longitude\":35.2803}},\"CityCode\":\"ADA\",\"CountryCode\":\"TR\",\"LocationType\":\"Airport\",\"Names\":{\"Name\":{\"@LanguageCode\":\"EN\",\"$\":\"Adana\"}},\"UtcOffset\":\"+03:00\",\"TimeZoneId\":\"Europe/Istanbul\"},{\"AirportCode\":\"ADB\",\"Position\":{\"Coordinate\":{\"Latitude\":38.2925,\"Longitude\":27.1569}},\"CityCode\":\"IZM\",\"CountryCode\":\"TR\",\"LocationType\":\"Airport\",\"Names\":{\"Name\":{\"@LanguageCode\":\"EN\",\"$\":\"Izmir\"}},\"UtcOffset\":\"+03:00\",\"TimeZoneId\":\"Europe/Istanbul\"}]},\"Meta\":{\"@Version\":\"1.0.0\",\"Link\":[{\"@Href\":\"https://api.lufthansa.com/v1/mds-references/airports/?lang=EN&limit=20&offset=0&LHoperated=1&group=AllAirports\",\"@Rel\":\"self\"},{\"@Href\":\"https://api.lufthansa.com/v1/mds-references/airports/?lang=EN&limit=20&offset=20&LHoperated=1&group=AllAirports\",\"@Rel\":\"next\"},{\"@Href\":\"https://api.lufthansa.com/v1/mds-references/airports/?lang=EN&limit=20&offset=1460&LHoperated=1&group=AllAirports\",\"@Rel\":\"last\"},{\"@Href\":\"https://api.lufthansa.com/v1/mds-references/cities/{cityCode}\",\"@Rel\":\"related\"},{\"@Href\":\"https://api.lufthansa.com/v1/mds-references/countries/{countryCode}\",\"@Rel\":\"related\"}],\"TotalCount\":1461}}}\n"
     ]
    }
   ],
   "source": [
    "import requests\n",
    "# url = 'https://api.lufthansa.com/v1/offers/faresbestprice/lowestfares?origin=FRA&destination=LHR&travel-date=2016-10-27&return-date=2016-11-09&cabin-class=Economy&travelers=(adult=1)&country=de'\n",
    "url = 'https://api.lufthansa.com/v1'\n",
    "url += '/promotions/priceoffers/flights/ond/FRA/AMS?departureDate=2022-11-01&returnDate=2022-12-02&service=amadeusBestPrice' \n",
    "url = 'https://api.lufthansa.com/v1/mds-references/airports/?lang=EN&limit=20&offset=0&LHoperated=1&group=AllAirports' \n",
    "print(url)\n",
    "headers={\n",
    "    'Accept': 'application/json'\n",
    "    ,'Content-Type': 'application/json'\n",
    "    ,'Authorization': 'Bearer ' + accessToken\n",
    "}\n",
    "response = requests.request('GET', url, headers=headers)\n",
    "print(response.text)"
   ]
  },
  {
   "cell_type": "code",
   "execution_count": null,
   "metadata": {},
   "outputs": [],
   "source": []
  }
 ],
 "metadata": {
  "kernelspec": {
   "display_name": "Python 3.9.13 64-bit (microsoft store)",
   "language": "python",
   "name": "python3"
  },
  "language_info": {
   "codemirror_mode": {
    "name": "ipython",
    "version": 3
   },
   "file_extension": ".py",
   "mimetype": "text/x-python",
   "name": "python",
   "nbconvert_exporter": "python",
   "pygments_lexer": "ipython3",
   "version": "3.9.13"
  },
  "orig_nbformat": 4,
  "vscode": {
   "interpreter": {
    "hash": "6039214bc14160885637f92d82ba9fcad86bce37363ef5771b5906fddd9d8a98"
   }
  }
 },
 "nbformat": 4,
 "nbformat_minor": 2
}
